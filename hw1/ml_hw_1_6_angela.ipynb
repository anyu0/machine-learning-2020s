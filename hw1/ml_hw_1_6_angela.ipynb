{
 "cells": [
  {
   "cell_type": "markdown",
   "metadata": {},
   "source": [
    "# Importing packages"
   ]
  },
  {
   "cell_type": "code",
   "execution_count": 68,
   "metadata": {},
   "outputs": [
    {
     "name": "stderr",
     "output_type": "stream",
     "text": [
      "[nltk_data] Downloading package punkt to /Users/anyu/nltk_data...\n",
      "[nltk_data]   Package punkt is already up-to-date!\n",
      "[nltk_data] Downloading package stopwords to /Users/anyu/nltk_data...\n",
      "[nltk_data]   Package stopwords is already up-to-date!\n"
     ]
    }
   ],
   "source": [
    "import nltk\n",
    "nltk.download('punkt')\n",
    "nltk.download('stopwords')\n",
    "from nltk.stem import PorterStemmer, SnowballStemmer\n",
    "from nltk.tokenize import word_tokenize\n",
    "from nltk.corpus import stopwords\n",
    "from sklearn.feature_extraction.text import CountVectorizer\n",
    "import pandas as pd\n",
    "import collections as c\n",
    "import os\n",
    "import re\n",
    "import numpy as np\n",
    "import scipy.spatial.distance as sp\n",
    "import math\n",
    "import matplotlib.pyplot as plt\n",
    "\n",
    "ps = PorterStemmer() \n",
    "sno = SnowballStemmer(\"english\")"
   ]
  },
  {
   "cell_type": "markdown",
   "metadata": {},
   "source": [
    "# Get list of file names"
   ]
  },
  {
   "cell_type": "code",
   "execution_count": 2,
   "metadata": {},
   "outputs": [],
   "source": [
    "filenames = []\n",
    "for fn in os.listdir(\"enron1/ham\"):\n",
    "    if fn.endswith(\".txt\"):\n",
    "        filenames.append(os.path.join(\"enron1/ham\", fn.replace(\"\\\\\", \"/\")))\n",
    "        \n",
    "ham_num = len(filenames)\n",
    "\n",
    "for fn in os.listdir(\"enron1/spam\"):\n",
    "    if fn.endswith(\".txt\"):\n",
    "        filenames.append(os.path.join(\"enron1/spam\", fn.replace(\"\\\\\", \"/\")))\n",
    "    \n",
    "spam_num = len(filenames) - ham_num"
   ]
  },
  {
   "cell_type": "code",
   "execution_count": 3,
   "metadata": {},
   "outputs": [
    {
     "data": {
      "text/plain": [
       "5172"
      ]
     },
     "execution_count": 3,
     "metadata": {},
     "output_type": "execute_result"
    }
   ],
   "source": [
    "len(filenames)"
   ]
  },
  {
   "cell_type": "markdown",
   "metadata": {},
   "source": [
    "# Stem email text"
   ]
  },
  {
   "cell_type": "code",
   "execution_count": 18,
   "metadata": {
    "scrolled": true
   },
   "outputs": [],
   "source": [
    "#flag to set initial df\n",
    "first = True\n",
    "stems_list = []\n",
    "#iterate through each file\n",
    "for fn in filenames:  \n",
    "    #read file\n",
    "    with open(fn, 'r', encoding=\"ISO-8859-1\") as file:\n",
    "        \n",
    "        #remove numbers\n",
    "        data = re.sub('[0-9]', '', file.read().replace('\\n', ' '))\n",
    "        \n",
    "        #data = file.read().replace('\\n', ' ')\n",
    "        \n",
    "        #tokenize + word-stem\n",
    "        nltk_tokens = word_tokenize(data)\n",
    "        stems = \"\"\n",
    "        for w in nltk_tokens:\n",
    "            stems += ps.stem(w) + \" \"\n",
    "        \n",
    "        stems_list.append(stems)\n"
   ]
  },
  {
   "cell_type": "code",
   "execution_count": null,
   "metadata": {},
   "outputs": [],
   "source": []
  },
  {
   "cell_type": "markdown",
   "metadata": {},
   "source": [
    "# Vectorize counts and get dictionary"
   ]
  },
  {
   "cell_type": "code",
   "execution_count": 19,
   "metadata": {},
   "outputs": [],
   "source": [
    "#count vectorize\n",
    "vect = CountVectorizer(input=\"content\")\n",
    "temp = vect.fit_transform(stems_list)\n",
    "word_bag = vect.get_feature_names()"
   ]
  },
  {
   "cell_type": "code",
   "execution_count": 52,
   "metadata": {},
   "outputs": [],
   "source": [
    "df = pd.DataFrame(temp.toarray(), columns=word_bag)"
   ]
  },
  {
   "cell_type": "code",
   "execution_count": 53,
   "metadata": {
    "scrolled": true
   },
   "outputs": [],
   "source": [
    "df.drop([col for col, val in df.sum().iteritems() if val <= 50], axis=1, inplace=True)"
   ]
  },
  {
   "cell_type": "code",
   "execution_count": 54,
   "metadata": {},
   "outputs": [
    {
     "data": {
      "text/plain": [
       "(5172, 1645)"
      ]
     },
     "execution_count": 54,
     "metadata": {},
     "output_type": "execute_result"
    }
   ],
   "source": [
    "df.shape"
   ]
  },
  {
   "cell_type": "code",
   "execution_count": 55,
   "metadata": {},
   "outputs": [],
   "source": [
    "#dropping stop words\n",
    "drop_stop = True\n",
    "\n",
    "if drop_stop:\n",
    "    nonstop_attr = df.columns.copy()\n",
    "    for word in stopwords.words('english'):\n",
    "        if word in df.columns:\n",
    "            nonstop_attr = nonstop_attr.drop(word)\n",
    "else:\n",
    "    nonstop_attr = df.columns"
   ]
  },
  {
   "cell_type": "code",
   "execution_count": 56,
   "metadata": {},
   "outputs": [
    {
     "data": {
      "text/plain": [
       "100"
      ]
     },
     "execution_count": 56,
     "metadata": {},
     "output_type": "execute_result"
    }
   ],
   "source": [
    "len(df.columns)-len(nonstop_attr)"
   ]
  },
  {
   "cell_type": "markdown",
   "metadata": {},
   "source": [
    "# Divide data into ham, spam, test, and train"
   ]
  },
  {
   "cell_type": "code",
   "execution_count": 57,
   "metadata": {
    "scrolled": true
   },
   "outputs": [
    {
     "name": "stderr",
     "output_type": "stream",
     "text": [
      "/usr/local/lib/python3.7/site-packages/ipykernel_launcher.py:5: SettingWithCopyWarning: \n",
      "A value is trying to be set on a copy of a slice from a DataFrame.\n",
      "Try using .loc[row_indexer,col_indexer] = value instead\n",
      "\n",
      "See the caveats in the documentation: http://pandas.pydata.org/pandas-docs/stable/indexing.html#indexing-view-versus-copy\n",
      "  \"\"\"\n",
      "/usr/local/lib/python3.7/site-packages/ipykernel_launcher.py:6: SettingWithCopyWarning: \n",
      "A value is trying to be set on a copy of a slice from a DataFrame.\n",
      "Try using .loc[row_indexer,col_indexer] = value instead\n",
      "\n",
      "See the caveats in the documentation: http://pandas.pydata.org/pandas-docs/stable/indexing.html#indexing-view-versus-copy\n",
      "  \n"
     ]
    }
   ],
   "source": [
    "df_nonstop = df[nonstop_attr].copy()[nonstop_attr]\n",
    "\n",
    "ham_data = df_nonstop[:ham_num]\n",
    "spam_data = df_nonstop[ham_num:]\n",
    "ham_data[\"SPAM_LABEL\"] = 0\n",
    "spam_data[\"SPAM_LABEL\"] = 1\n",
    "\n",
    "msk0 = np.random.rand(len(ham_data)) < 0.7\n",
    "ham_train = ham_data[msk0]\n",
    "ham_test = ham_data[~msk0]\n",
    "\n",
    "msk1 = np.random.rand(len(spam_data)) < 0.7\n",
    "spam_train = spam_data[msk1]\n",
    "spam_test = spam_data[~msk1]\n",
    "\n",
    "train_data = pd.concat([ham_train, spam_train])\n",
    "test_data = pd.concat([ham_test, spam_test])"
   ]
  },
  {
   "cell_type": "code",
   "execution_count": null,
   "metadata": {},
   "outputs": [],
   "source": [
    "test_data"
   ]
  },
  {
   "cell_type": "markdown",
   "metadata": {},
   "source": [
    "# K Nearest Neighbors"
   ]
  },
  {
   "cell_type": "markdown",
   "metadata": {},
   "source": [
    "Setting up parameters"
   ]
  },
  {
   "cell_type": "code",
   "execution_count": 64,
   "metadata": {},
   "outputs": [],
   "source": [
    "def KNN(k, p, train_data):\n",
    "    attr = train_data.columns.drop(\"SPAM_LABEL\")\n",
    "    train_data_knn = train_data.copy()\n",
    "    test_data_knn = test_data.copy()\n",
    "    test_data_knn[\"y\"] = -1\n",
    "\n",
    "    for i in range(len(test_data_knn.index)):\n",
    "        distance = sp.cdist(train_data_knn[attr], test_data_knn[attr][i:i+1], 'minkowski', p)\n",
    "        neighbors = np.apply_along_axis(np.argpartition, 0, distance, k)[:k] \n",
    "        test_data_knn.iloc[i][\"y\"] = train_data_knn.iloc[list(neighbors[:, 0]), :][\"SPAM_LABEL\"].mode()[0]\n",
    "\n",
    "    return len(test_data_knn[test_data_knn[\"SPAM_LABEL\"] == test_data_knn[\"y\"]].index)/len(test_data_knn.index)"
   ]
  },
  {
   "cell_type": "code",
   "execution_count": 65,
   "metadata": {},
   "outputs": [
    {
     "data": {
      "text/plain": [
       "0.8579201934703748"
      ]
     },
     "execution_count": 65,
     "metadata": {},
     "output_type": "execute_result"
    }
   ],
   "source": [
    "KNN(5, 2, train_data)"
   ]
  },
  {
   "cell_type": "code",
   "execution_count": null,
   "metadata": {},
   "outputs": [],
   "source": [
    "# Plot performance against p\n",
    "x = [1,2,3,4,5,200,1000]\n",
    "x_ = ['1','2','3','4','5','200','1000']\n",
    "y = []\n",
    "for p in x:\n",
    "    y.append(KNN(1, p, train_data))\n",
    "    \n",
    "plt.xlabel(\"Distance Metric p\")\n",
    "plt.ylabel(\"Accuracy\")\n",
    "plt.plot(x_, y, linewidth=2.0)\n",
    "plt.title(\"KNN Performance Accuracy against p\")"
   ]
  },
  {
   "cell_type": "code",
   "execution_count": 69,
   "metadata": {},
   "outputs": [
    {
     "data": {
      "text/plain": [
       "Text(0.5, 1.0, 'KNN Performance Accuracy against p')"
      ]
     },
     "execution_count": 69,
     "metadata": {},
     "output_type": "execute_result"
    },
    {
     "data": {
      "image/png": "[encoded data removed]",
      "text/plain": [
       "<Figure size 432x288 with 1 Axes>"
      ]
     },
     "metadata": {},
     "output_type": "display_data"
    }
   ],
   "source": [
    "plt.xlabel(\"Distance Metric p\")\n",
    "plt.ylabel(\"Accuracy\")\n",
    "plt.plot(x_, y, linewidth=2.0)\n",
    "plt.title(\"KNN Performance Accuracy against p\")"
   ]
  },
  {
   "cell_type": "code",
   "execution_count": 71,
   "metadata": {},
   "outputs": [
    {
     "data": {
      "text/plain": [
       "[0.8669891172914147,\n",
       " 0.685006045949214,\n",
       " 0.5453446191051995,\n",
       " 0.5054413542926239,\n",
       " 0.8458282950423216,\n",
       " 0.717049576783555]"
      ]
     },
     "execution_count": 71,
     "metadata": {},
     "output_type": "execute_result"
    }
   ],
   "source": [
    "y"
   ]
  },
  {
   "cell_type": "code",
   "execution_count": 70,
   "metadata": {},
   "outputs": [
    {
     "data": {
      "text/plain": [
       "Text(0.5, 1.0, 'KNN Performance Accuracy against k')"
      ]
     },
     "execution_count": 70,
     "metadata": {},
     "output_type": "execute_result"
    },
    {
     "data": {
      "image/png": "[encoded data removed]",
      "text/plain": [
       "<Figure size 432x288 with 1 Axes>"
      ]
     },
     "metadata": {},
     "output_type": "display_data"
    }
   ],
   "source": [
    "# Plot performance against k\n",
    "x = [1,10,50,100,500,2000]\n",
    "y = []\n",
    "for k in x:\n",
    "    y.append(KNN(k, 1, train_data))\n",
    "    \n",
    "plt.xlabel(\"Number of Neighbors k\")\n",
    "plt.ylabel(\"Accuracy\")\n",
    "plt.plot(x, y, linewidth=2.0)\n",
    "plt.title(\"KNN Performance Accuracy against k\")"
   ]
  },
  {
   "cell_type": "code",
   "execution_count": 72,
   "metadata": {},
   "outputs": [
    {
     "name": "stdout",
     "output_type": "stream",
     "text": [
      "1\n",
      "0.8923821039903265\n"
     ]
    }
   ],
   "source": [
    "k_optimum = x[y.index(max(y))]\n",
    "print(k_optimum)\n",
    "print(KNN(k_optimum, 2, train_data))"
   ]
  },
  {
   "cell_type": "markdown",
   "metadata": {},
   "source": [
    "# Naive Bayes"
   ]
  },
  {
   "cell_type": "markdown",
   "metadata": {},
   "source": [
    "We use add-one Laplace smoothing and log the probabilities to avoid zero-frequency problem."
   ]
  },
  {
   "cell_type": "code",
   "execution_count": 80,
   "metadata": {},
   "outputs": [],
   "source": [
    "def bayes_prob(row, freq, attr, total):\n",
    "    p = 0\n",
    "    for i in range(len(attr)):\n",
    "        #using add-one laplacian smoothing\n",
    "        p += math.log((freq[i][row[i+1]]+1)/total)\n",
    "    return p"
   ]
  },
  {
   "cell_type": "code",
   "execution_count": 82,
   "metadata": {},
   "outputs": [],
   "source": [
    "def NB(train_data):\n",
    "    attr = train_data.columns.drop(\"SPAM_LABEL\")\n",
    "    \n",
    "    #get training data\n",
    "    train_data_b0 = train_data[train_data[\"SPAM_LABEL\"]==0]\n",
    "    train_data_b1 = train_data[train_data[\"SPAM_LABEL\"]==1]\n",
    "\n",
    "    #build frequency table\n",
    "    freq_0 = [c.Counter(train_data_b0[col]) for col in attr]\n",
    "    freq_1 = [c.Counter(train_data_b1[col]) for col in attr]\n",
    "\n",
    "    #get counts\n",
    "    counts = train_data[\"SPAM_LABEL\"].value_counts()\n",
    "    total = counts.sum()\n",
    "\n",
    "    #get test data\n",
    "    test_data_bayes = test_data.copy()\n",
    "    test_data_bayes[\"SPAM_LABEL_y\"] = -1\n",
    "\n",
    "    #classiying\n",
    "    for row in test_data.itertuples():\n",
    "        p_0 = bayes_prob(row, freq_0, attr, counts[0]) + math.log(counts[0]/total)\n",
    "        p_1 = bayes_prob(row, freq_1, attr, counts[1]) + math.log(counts[1]/total)\n",
    "\n",
    "    #give label\n",
    "    if p_0 > p_1:\n",
    "        test_data_bayes[\"SPAM_LABEL_y\"].loc[row[0]] = 0\n",
    "    else:\n",
    "        test_data_bayes[\"SPAM_LABEL_y\"].loc[row[0]] = 1\n",
    "        \n",
    "    return len(test_data_bayes[test_data_bayes[\"SPAM_LABEL_y\"] == test_data_bayes[\"SPAM_LABEL\"]].index)/len(test_data_bayes.index)"
   ]
  },
  {
   "cell_type": "code",
   "execution_count": 83,
   "metadata": {},
   "outputs": [
    {
     "data": {
      "text/plain": [
       "0.0006045949214026602"
      ]
     },
     "execution_count": 83,
     "metadata": {},
     "output_type": "execute_result"
    }
   ],
   "source": [
    "NB(train_data)"
   ]
  },
  {
   "cell_type": "code",
   "execution_count": 84,
   "metadata": {
    "scrolled": true
   },
   "outputs": [
    {
     "data": {
      "text/plain": [
       "Index(['abil', 'abl', 'abov', 'accept', 'access', 'accomplish', 'accord',\n",
       "       'account', 'acquir', 'acquisit',\n",
       "       ...\n",
       "       'yap', 'ye', 'year', 'yesterday', 'yet', 'young', 'yvett', 'zero',\n",
       "       'zone', 'SPAM_LABEL'],\n",
       "      dtype='object', length=1546)"
      ]
     },
     "execution_count": 84,
     "metadata": {},
     "output_type": "execute_result"
    }
   ],
   "source": [
    "train_data.columns"
   ]
  },
  {
   "cell_type": "code",
   "execution_count": null,
   "metadata": {},
   "outputs": [],
   "source": []
  },
  {
   "cell_type": "markdown",
   "metadata": {},
   "source": [
    "# Decision tree"
   ]
  },
  {
   "cell_type": "markdown",
   "metadata": {},
   "source": [
    "Lots of features = lots of time. We trim space by looking at topmost features with highest variance, then consider limited number of thresholds within each feature rather than every possible threshold. "
   ]
  },
  {
   "cell_type": "code",
   "execution_count": null,
   "metadata": {},
   "outputs": [],
   "source": [
    "#copy data\n",
    "train_data_temp = train_data.copy()\n",
    "test_data_d = test_data.copy()\n",
    "\n",
    "#split train and validation sets\n",
    "msk = np.random.rand(len(train_data_temp)) < 0.9\n",
    "train_data_d = train_data_temp[msk]\n",
    "val = train_data_temp[~msk]\n",
    "\n"
   ]
  },
  {
   "cell_type": "code",
   "execution_count": null,
   "metadata": {
    "scrolled": true
   },
   "outputs": [],
   "source": [
    "#get tree attributes\n",
    "feat_num = round(len(train_data_d.columns)*.05)\n",
    "tree_attr = list(train_data_d.var().sort_values(ascending=False)[:feat_num].index)\n",
    "tree_attr.remove(\"SPAM_LABEL\")"
   ]
  },
  {
   "cell_type": "code",
   "execution_count": null,
   "metadata": {},
   "outputs": [],
   "source": [
    "'''\n",
    "Tree Class\n",
    "'''\n",
    "class Tree:\n",
    "    def __init__(self):\n",
    "        self.left = None\n",
    "        self.right = None\n",
    "        self.feature = None\n",
    "        self.threshold = None\n",
    "        self.label = -1\n",
    "\n",
    "'''\n",
    "Calculates Gini impurity\n",
    "'''        \n",
    "def gini(p):\n",
    "    return 1-(p**2+(1-p)**2)\n",
    "\n",
    "\n",
    "'''\n",
    "Uses ID3 algorithm to build tree\n",
    "'''\n",
    "def ID3(data, y, attr, n):\n",
    "    t = Tree()\n",
    "    l = data.shape[0]\n",
    "    \n",
    "    #if all data is ham\n",
    "    if data[y].sum() == 0:\n",
    "        t.label = 0\n",
    "        return t\n",
    "    \n",
    "    \n",
    "    #if all data is spam\n",
    "    elif data[y].sum() == l:\n",
    "        t.label = 1\n",
    "        return t\n",
    "    \n",
    "    #if we're out of attributes to train on\n",
    "    elif len(attr) == 0 or n == 0:\n",
    "        t.label = int(round(data[y].sum()/l))\n",
    "        return t\n",
    "\n",
    "    else:\n",
    "        #get best feature and threshold\n",
    "        best_f = None\n",
    "        best_t = None\n",
    "        best_g = -1\n",
    "        \n",
    "        #calculate gini ipurity of whole cell\n",
    "        p = data[y].sum()/l\n",
    "        g_total = gini(p)\n",
    "        \n",
    "        for a in attr:\n",
    "            #get data and thresholds to try\n",
    "            temp = np.array(list(zip(data[a], data[y])))\n",
    "            thr_list = np.unique(data[a].values)\n",
    "            \n",
    "            for thr in thr_list:\n",
    "                #split cells\n",
    "                left = temp[temp[:,0] <= thr]\n",
    "                right = temp[temp[:,0] > thr]\n",
    "                \n",
    "                #calculate gini impurity of each\n",
    "                p_l = np.sum(left[:,1])/l\n",
    "                p_r = np.sum(right[:,1])/l\n",
    "                g =  g_total-(left.shape[0]/l*gini(p_l)+right.shape[0]/l*gini(p_r))\n",
    "                \n",
    "                #if it's the best feature:\n",
    "                if g > best_g:\n",
    "                    best_f = a\n",
    "                    best_t = thr\n",
    "                    best_g = g\n",
    "        \n",
    "        #set tree node parameters\n",
    "        print(\"Best feature: \" + a)\n",
    "        t.feature = best_f\n",
    "        t.threshold = best_t\n",
    "        \n",
    "        #split data into cells\n",
    "        left_data = data[data[best_f] <= best_t]\n",
    "        right_data = data[data[best_f] > best_t]\n",
    "        \n",
    "        #if one cell is empty\n",
    "        if left_data.shape[0] == 0 or right_data.shape[0] == 0:\n",
    "            t.label = int(round(data[y].sum()/l))\n",
    "            return t\n",
    "        \n",
    "        #build subtree\n",
    "        else:\n",
    "            new_attr = attr.copy()\n",
    "            new_attr.remove(best_f)\n",
    "            t.left = ID3(left_data, y, new_attr, n-1)\n",
    "            t.right = ID3(right_data, y, new_attr, n-1)\n",
    "        \n",
    "    return t\n",
    "        \n",
    "'''\n",
    "Uses tree to classify data\n",
    "'''\n",
    "def tree_classify(t, test_data):\n",
    "    y = []\n",
    "    root = t\n",
    "    for i in range(test_data.shape[0]):\n",
    "        t = root\n",
    "        x = test_data.iloc[i]\n",
    "        while t.label == -1:\n",
    "            if x[t.feature] <= t.threshold:\n",
    "                t = t.left\n",
    "            else:\n",
    "                t = t.right\n",
    "        y.append(t.label)\n",
    "    return y\n",
    "\n",
    "'''\n",
    "Print tree (preorder)\n",
    "'''\n",
    "\n",
    "def show(t):\n",
    "    if t.label == -1:\n",
    "        print(t.feature, \": \", t.threshold)\n",
    "        show(t.left)\n",
    "        show(t.right)\n",
    "    else:\n",
    "        print(\"Label: \" + t.label)"
   ]
  },
  {
   "cell_type": "code",
   "execution_count": null,
   "metadata": {
    "scrolled": true
   },
   "outputs": [],
   "source": [
    "t = ID3(train_data_d, \"SPAM_LABEL\", tree_attr, 100)"
   ]
  },
  {
   "cell_type": "code",
   "execution_count": null,
   "metadata": {},
   "outputs": [],
   "source": [
    "\n",
    "        print(t.label)\n",
    "z = tree_classify(t, test_data_d)"
   ]
  },
  {
   "cell_type": "code",
   "execution_count": 9,
   "metadata": {},
   "outputs": [
    {
     "ename": "NameError",
     "evalue": "name 'test_data_d' is not defined",
     "output_type": "error",
     "traceback": [
      "\u001b[0;31m---------------------------------------------------------------------------\u001b[0m",
      "\u001b[0;31mNameError\u001b[0m                                 Traceback (most recent call last)",
      "\u001b[0;32m<ipython-input-9-69c075bf3372>\u001b[0m in \u001b[0;36m<module>\u001b[0;34m()\u001b[0m\n\u001b[0;32m----> 1\u001b[0;31m \u001b[0mtest_data_d\u001b[0m\u001b[0;34m[\u001b[0m\u001b[0;34m\"SPAM_LABEL\"\u001b[0m\u001b[0;34m]\u001b[0m\u001b[0;34m.\u001b[0m\u001b[0msum\u001b[0m\u001b[0;34m(\u001b[0m\u001b[0;34m)\u001b[0m\u001b[0;34m\u001b[0m\u001b[0;34m\u001b[0m\u001b[0m\n\u001b[0m",
      "\u001b[0;31mNameError\u001b[0m: name 'test_data_d' is not defined"
     ]
    }
   ],
   "source": [
    "test_data_d[\"SPAM_LABEL\"].sum()"
   ]
  },
  {
   "cell_type": "code",
   "execution_count": null,
   "metadata": {},
   "outputs": [],
   "source": [
    "#accuracy\n",
    "(z==test_data_d[\"SPAM_LABEL\"]).sum()/test_data_d.shape[0]\n"
   ]
  },
  {
   "cell_type": "code",
   "execution_count": null,
   "metadata": {},
   "outputs": [],
   "source": []
  }
 ],
 "metadata": {
  "kernelspec": {
   "display_name": "Python 3",
   "language": "python",
   "name": "python3"
  },
  "language_info": {
   "codemirror_mode": {
    "name": "ipython",
    "version": 3
   },
   "file_extension": ".py",
   "mimetype": "text/x-python",
   "name": "python",
   "nbconvert_exporter": "python",
   "pygments_lexer": "ipython3",
   "version": "3.7.6"
  }
 },
 "nbformat": 4,
 "nbformat_minor": 2
}
