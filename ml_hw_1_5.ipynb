{
 "cells": [
  {
   "cell_type": "markdown",
   "metadata": {},
   "source": [
    "# Importing packages and getting data"
   ]
  },
  {
   "cell_type": "code",
   "execution_count": 2,
   "metadata": {},
   "outputs": [],
   "source": [
    "import numpy as np\n",
    "import pandas as pd\n",
    "import scipy.stats as sc\n",
    "import scipy.spatial.distance as sp\n",
    "import matplotlib.pyplot as plt\n",
    "\n",
    "train_data = pd.read_csv(\"propublicaTrain.csv\")\n",
    "test_data = pd.read_csv(\"propublicaTest.csv\")\n",
    "attr = train_data.columns.drop(\"two_year_recid\")"
   ]
  },
  {
   "cell_type": "markdown",
   "metadata": {},
   "source": [
    "# Helper functions"
   ]
  },
  {
   "cell_type": "code",
   "execution_count": 3,
   "metadata": {
    "scrolled": true
   },
   "outputs": [],
   "source": [
    "def gaussian(data):\n",
    "    mu = data.mean(axis=0)   \n",
    "    var = (data-mu).T @ (data-mu) / data.shape[0]\n",
    "    return mu, var\n",
    "\n",
    "def bayes_prob(row, train, attr):\n",
    "    p = 1\n",
    "    for i in range(len(attr)):\n",
    "        if row[i+2] in train.index:\n",
    "            p = p * train.loc[row[i+2]][attr[i]]\n",
    "        else:\n",
    "            return 0\n",
    "    return p"
   ]
  },
  {
   "cell_type": "markdown",
   "metadata": {},
   "source": [
    "# Maximum Likelihood Estimator"
   ]
  },
  {
   "cell_type": "code",
   "execution_count": 4,
   "metadata": {},
   "outputs": [],
   "source": [
    "def MLE(train_data):\n",
    "    \n",
    "    # get data\n",
    "    train_data_m0 = train_data[train_data.two_year_recid==0].fillna(0)\n",
    "    train_data_m1 = train_data[train_data.two_year_recid==1].fillna(0)\n",
    "    test_data_m = test_data.copy()\n",
    "    test_data_m[\"y\"] = -1\n",
    "\n",
    "    # drop linearly dependent columns\n",
    "    attr_m = attr[:-1]\n",
    "    \n",
    "    # generate Gaussian for the two classes\n",
    "    mu_0, var_0 = gaussian(train_data_m0[attr_m])\n",
    "    mu_1, var_1 = gaussian(train_data_m1[attr_m])\n",
    "    \n",
    "    model_0 = sc.multivariate_normal(mean=mu_0, cov=var_0)\n",
    "    model_1 = sc.multivariate_normal(mean=mu_1, cov=var_1)\n",
    "\n",
    "    # testing\n",
    "    for i in range(len(test_data_m.index)):\n",
    "        p_0 = model_0.pdf(test_data_m[attr_m].iloc[i])\n",
    "        p_1 = model_1.pdf(test_data_m[attr_m].iloc[i])\n",
    "\n",
    "        if p_0 > p_1:\n",
    "            test_data_m[\"y\"].iloc[i] = 0\n",
    "        else:\n",
    "            test_data_m[\"y\"].iloc[i] = 1\n",
    "            \n",
    "    return len(test_data_m[test_data_m[\"two_year_recid\"] == test_data_m[\"y\"]].index)/len(test_data_m.index)"
   ]
  },
  {
   "cell_type": "code",
   "execution_count": 4,
   "metadata": {},
   "outputs": [
    {
     "data": {
      "text/plain": [
       "0.6415"
      ]
     },
     "execution_count": 4,
     "metadata": {},
     "output_type": "execute_result"
    }
   ],
   "source": [
    "MLE(train_data)"
   ]
  },
  {
   "cell_type": "markdown",
   "metadata": {},
   "source": [
    "# K Nearest Neighbors"
   ]
  },
  {
   "cell_type": "code",
   "execution_count": 265,
   "metadata": {
    "scrolled": true
   },
   "outputs": [],
   "source": [
    "def KNN(k, p, train_data):\n",
    "    train_data_knn = train_data.copy()\n",
    "    test_data_knn = test_data.copy()\n",
    "    test_data_knn[\"y\"] = -1\n",
    "\n",
    "    for i in range(len(test_data_knn.index)):\n",
    "        distance = sp.cdist(train_data_knn[attr], test_data_knn[attr][i:i+1], 'minkowski', p)\n",
    "        neighbors = np.apply_along_axis(np.argpartition, 0, distance, k)[:k] \n",
    "        test_data_knn.iloc[i][\"y\"] = train_data_knn.iloc[list(neighbors[:, 0]), :][\"two_year_recid\"].mode()[0]\n",
    "\n",
    "    return len(test_data_knn[test_data_knn[\"two_year_recid\"] == test_data_knn[\"y\"]].index)/len(test_data_knn.index)\n",
    "    "
   ]
  },
  {
   "cell_type": "code",
   "execution_count": 274,
   "metadata": {
    "scrolled": true
   },
   "outputs": [
    {
     "name": "stdout",
     "output_type": "stream",
     "text": [
      "k=1,  0.623\n",
      "k=10,  0.6495\n",
      "k=50,  0.689\n",
      "k=200,  0.6895\n",
      "k=1000,  0.6795\n"
     ]
    }
   ],
   "source": [
    "list_k = [1,10,50,200,1000]\n",
    "for k in list_k:\n",
    "    print(\"k={},  {}\".format(k, KNN(k, 2, train_data)))\n",
    "'''\n",
    "performance before\n",
    "0.605\n",
    "0.6485\n",
    "0.684\n",
    "0.6905\n",
    "0.6785\n",
    "'''"
   ]
  },
  {
   "cell_type": "code",
   "execution_count": null,
   "metadata": {},
   "outputs": [],
   "source": [
    "list_p = [1,2,5,200,1000]\n",
    "for k in list_k:\n",
    "    print(\"k={},  {}\".format(k, KNN(1, 2, train_data)))"
   ]
  },
  {
   "cell_type": "code",
   "execution_count": 269,
   "metadata": {},
   "outputs": [
    {
     "data": {
      "text/plain": [
       "0.6255"
      ]
     },
     "execution_count": 269,
     "metadata": {},
     "output_type": "execute_result"
    }
   ],
   "source": [
    "KNN(5, 2, train_data)"
   ]
  },
  {
   "cell_type": "code",
   "execution_count": 289,
   "metadata": {
    "scrolled": true
   },
   "outputs": [
    {
     "data": {
      "text/plain": [
       "0.6495"
      ]
     },
     "execution_count": 289,
     "metadata": {},
     "output_type": "execute_result"
    }
   ],
   "source": [
    "KNN(10, 2, train_data)"
   ]
  },
  {
   "cell_type": "code",
   "execution_count": 279,
   "metadata": {},
   "outputs": [
    {
     "data": {
      "text/plain": [
       "[<matplotlib.lines.Line2D at 0x13683d710>]"
      ]
     },
     "execution_count": 279,
     "metadata": {},
     "output_type": "execute_result"
    },
    {
     "data": {
      "image/png": "[encoded data removed]",
      "text/plain": [
       "<Figure size 432x288 with 1 Axes>"
      ]
     },
     "metadata": {},
     "output_type": "display_data"
    }
   ],
   "source": [
    "# Plot performance against p\n",
    "x = [1,2,5,200,1000]\n",
    "y = []\n",
    "for k in x:\n",
    "    y.append(KNN(1, p, train_data))\n",
    "    \n",
    "plt.plot(x, y, linewidth=2.0)"
   ]
  },
  {
   "cell_type": "code",
   "execution_count": 291,
   "metadata": {},
   "outputs": [
    {
     "data": {
      "text/plain": [
       "[<matplotlib.lines.Line2D at 0x136ed69d0>]"
      ]
     },
     "execution_count": 291,
     "metadata": {},
     "output_type": "execute_result"
    },
    {
     "data": {
      "image/png": "[encoded data removed]",
      "text/plain": [
       "<Figure size 432x288 with 1 Axes>"
      ]
     },
     "metadata": {},
     "output_type": "display_data"
    }
   ],
   "source": [
    "# Plot performance against k\n",
    "x = [1,10,20,30,40,50,60,70,75,77,78,79,80,81,82,85,87,88,89,90,91,92,93,94,95,97,100,110,120,130,150,200,250,300,400,600,800,1000]\n",
    "y = []\n",
    "for k in x:\n",
    "    y.append(KNN(k, 2, train_data))\n",
    "    \n",
    "plt.plot(x, y, linewidth=2.0)"
   ]
  },
  {
   "cell_type": "code",
   "execution_count": 292,
   "metadata": {},
   "outputs": [
    {
     "name": "stdout",
     "output_type": "stream",
     "text": [
      "1 0.623\n",
      "10 0.6495\n",
      "20 0.6675\n",
      "30 0.681\n",
      "40 0.689\n",
      "50 0.689\n",
      "60 0.6835\n",
      "70 0.691\n",
      "75 0.692\n",
      "77 0.6935\n",
      "78 0.6925\n",
      "79 0.692\n",
      "80 0.6915\n",
      "81 0.692\n",
      "82 0.692\n",
      "85 0.6935\n",
      "87 0.6945\n",
      "88 0.6935\n",
      "89 0.6935\n",
      "90 0.695\n",
      "91 0.694\n",
      "92 0.695\n",
      "93 0.6955\n",
      "94 0.694\n",
      "95 0.694\n",
      "97 0.692\n",
      "100 0.69\n",
      "110 0.689\n",
      "120 0.691\n",
      "130 0.691\n",
      "150 0.6895\n",
      "200 0.6895\n",
      "250 0.691\n",
      "300 0.6915\n",
      "400 0.6905\n",
      "600 0.685\n",
      "800 0.6885\n",
      "1000 0.6795\n"
     ]
    }
   ],
   "source": [
    "for i in range(len(x)):\n",
    "    print(x[i], y[i])"
   ]
  },
  {
   "cell_type": "markdown",
   "metadata": {},
   "source": [
    "# Bayes Classifier"
   ]
  },
  {
   "cell_type": "code",
   "execution_count": 320,
   "metadata": {
    "scrolled": true
   },
   "outputs": [],
   "source": [
    "def NB(train_data):\n",
    "    #split data \n",
    "    train_data_b0 = train_data[train_data.two_year_recid==0].apply(pd.Series.value_counts).fillna(0)\n",
    "    train_data_b1 = train_data[train_data.two_year_recid==1].apply(pd.Series.value_counts).fillna(0)\n",
    "\n",
    "    #get counts and adjust for proportion\n",
    "    counts = train_data.two_year_recid.value_counts()\n",
    "    train_data_b0 = train_data_b0/counts[0]\n",
    "    train_data_b1 = train_data_b1/counts[1]\n",
    "    counts = counts/counts.sum()\n",
    "\n",
    "    #get test data\n",
    "    test_data_bayes = test_data.copy()\n",
    "    test_data_bayes[\"y\"] = -1\n",
    "\n",
    "    #classification\n",
    "    for row in test_data.itertuples():\n",
    "        p_0 = bayes_prob(row, train_data_b0, attr) * counts[0]\n",
    "        p_1 = bayes_prob(row, train_data_b1, attr) * counts[1]\n",
    "\n",
    "        #give label\n",
    "        if p_0 > p_1:\n",
    "            test_data_bayes[\"y\"].loc[row[0]] = 0\n",
    "        else:\n",
    "            test_data_bayes[\"y\"].loc[row[0]] = 1\n",
    "    \n",
    "    return len(test_data_bayes[test_data_bayes[\"two_year_recid\"] == test_data_bayes[\"y\"]].index)/len(test_data_bayes.index)\n"
   ]
  },
  {
   "cell_type": "code",
   "execution_count": 321,
   "metadata": {
    "scrolled": true
   },
   "outputs": [
    {
     "data": {
      "text/plain": [
       "0.68"
      ]
     },
     "execution_count": 321,
     "metadata": {},
     "output_type": "execute_result"
    }
   ],
   "source": [
    "NB(train_data)"
   ]
  },
  {
   "cell_type": "markdown",
   "metadata": {
    "scrolled": true
   },
   "source": [
    "# Performance Graphs"
   ]
  },
  {
   "cell_type": "code",
   "execution_count": 293,
   "metadata": {},
   "outputs": [
    {
     "data": {
      "text/plain": [
       "41.67"
      ]
     },
     "execution_count": 293,
     "metadata": {},
     "output_type": "execute_result"
    }
   ],
   "source": [
    "train_data.shape[0]/100"
   ]
  },
  {
   "cell_type": "code",
   "execution_count": 322,
   "metadata": {},
   "outputs": [
    {
     "name": "stdout",
     "output_type": "stream",
     "text": [
      "10\n",
      "11\n",
      "12\n",
      "13\n",
      "14\n",
      "15\n",
      "16\n",
      "17\n",
      "18\n",
      "19\n",
      "20\n",
      "21\n",
      "22\n",
      "23\n",
      "24\n",
      "25\n",
      "26\n",
      "27\n",
      "28\n",
      "29\n",
      "30\n",
      "31\n",
      "32\n",
      "33\n",
      "34\n",
      "35\n",
      "36\n",
      "37\n",
      "38\n",
      "39\n",
      "40\n",
      "41\n",
      "42\n",
      "43\n",
      "44\n",
      "45\n",
      "46\n",
      "47\n",
      "48\n",
      "49\n",
      "50\n",
      "51\n",
      "52\n",
      "53\n",
      "54\n",
      "55\n",
      "56\n",
      "57\n",
      "58\n",
      "59\n",
      "60\n",
      "61\n",
      "62\n",
      "63\n",
      "64\n",
      "65\n",
      "66\n",
      "67\n",
      "68\n",
      "69\n",
      "70\n",
      "71\n",
      "72\n",
      "73\n",
      "74\n",
      "75\n",
      "76\n",
      "77\n",
      "78\n",
      "79\n",
      "80\n",
      "81\n",
      "82\n",
      "83\n",
      "84\n",
      "85\n",
      "86\n",
      "87\n",
      "88\n",
      "89\n",
      "90\n",
      "91\n",
      "92\n",
      "93\n",
      "94\n",
      "95\n",
      "96\n",
      "97\n",
      "98\n",
      "99\n"
     ]
    }
   ],
   "source": [
    "x = []\n",
    "y_mle = []\n",
    "y_knn = []\n",
    "y_bay = []\n",
    "N = 100\n",
    "step = train_data.shape[0]/N\n",
    "\n",
    "for k in range(10,N):\n",
    "    print(k)\n",
    "    i = int(k*step)\n",
    "    train_data_curr = train_data[:i]\n",
    "    x.append(i)\n",
    "    y_mle.append(MLE(train_data_curr))\n",
    "    y_knn.append(KNN(90,2,train_data_curr))\n",
    "    y_bay.append(NB(train_data_curr))"
   ]
  },
  {
   "cell_type": "code",
   "execution_count": 316,
   "metadata": {},
   "outputs": [
    {
     "data": {
      "text/plain": [
       "0.6265"
      ]
     },
     "execution_count": 316,
     "metadata": {},
     "output_type": "execute_result"
    }
   ],
   "source": [
    "MLE(train_data_curr)"
   ]
  },
  {
   "cell_type": "code",
   "execution_count": 325,
   "metadata": {},
   "outputs": [
    {
     "data": {
      "text/plain": [
       "[<matplotlib.lines.Line2D at 0x137421d90>]"
      ]
     },
     "execution_count": 325,
     "metadata": {},
     "output_type": "execute_result"
    },
    {
     "data": {
      "image/png": "[encoded data removed]",
      "text/plain": [
       "<Figure size 432x288 with 1 Axes>"
      ]
     },
     "metadata": {},
     "output_type": "display_data"
    }
   ],
   "source": [
    "plt.plot(x, y_mle, linewidth=2.0)"
   ]
  },
  {
   "cell_type": "code",
   "execution_count": 326,
   "metadata": {},
   "outputs": [
    {
     "data": {
      "text/plain": [
       "[<matplotlib.lines.Line2D at 0x1373b3910>]"
      ]
     },
     "execution_count": 326,
     "metadata": {},
     "output_type": "execute_result"
    },
    {
     "data": {
      "image/png": "[encoded data removed]",
      "text/plain": [
       "<Figure size 432x288 with 1 Axes>"
      ]
     },
     "metadata": {},
     "output_type": "display_data"
    }
   ],
   "source": [
    "plt.plot(x, y_knn, linewidth=2.0)"
   ]
  },
  {
   "cell_type": "code",
   "execution_count": 327,
   "metadata": {},
   "outputs": [
    {
     "data": {
      "text/plain": [
       "[<matplotlib.lines.Line2D at 0x1367b7a10>]"
      ]
     },
     "execution_count": 327,
     "metadata": {},
     "output_type": "execute_result"
    },
    {
     "data": {
      "image/png": "[encoded data removed]",
      "text/plain": [
       "<Figure size 432x288 with 1 Axes>"
      ]
     },
     "metadata": {},
     "output_type": "display_data"
    }
   ],
   "source": [
    "plt.plot(x, y_bay, linewidth=2.0)"
   ]
  },
  {
   "cell_type": "code",
   "execution_count": 332,
   "metadata": {},
   "outputs": [
    {
     "data": {
      "text/plain": [
       "<matplotlib.legend.Legend at 0x1378e9d90>"
      ]
     },
     "execution_count": 332,
     "metadata": {},
     "output_type": "execute_result"
    },
    {
     "data": {
      "image/png": "[encoded data removed]",
      "text/plain": [
       "<Figure size 432x288 with 1 Axes>"
      ]
     },
     "metadata": {},
     "output_type": "display_data"
    }
   ],
   "source": [
    "plt.plot(x, y_mle, linewidth=2.0)\n",
    "plt.plot(x, y_knn, linewidth=2.0)\n",
    "plt.plot(x, y_bay, linewidth=2.0)\n",
    "plt.legend(['MLE', 'KNN', 'Bayes'], loc='lower right')"
   ]
  },
  {
   "cell_type": "markdown",
   "metadata": {},
   "source": [
    "# Fairness Condition"
   ]
  },
  {
   "cell_type": "code",
   "execution_count": 5,
   "metadata": {},
   "outputs": [],
   "source": [
    "def print_fairness(dataset):\n",
    "    curr_data = dataset\n",
    "\n",
    "    ## Demographic Parity\n",
    "    print(\"Demographic Parity\")\n",
    "    N0 = len(curr_data[curr_data[\"race\"] == 0].index)\n",
    "    N1 = len(curr_data[curr_data[\"race\"] == 1].index)\n",
    "    print(\"P_0(0): \", len(curr_data[curr_data[\"race\"] == 0][curr_data[\"y\"] == 0].index)/N0)\n",
    "    print(\"P_1(0): \", len(curr_data[curr_data[\"race\"] == 1][curr_data[\"y\"] == 0].index)/N1)\n",
    "    print(\"P_0(1): \", len(curr_data[curr_data[\"race\"] == 0][curr_data[\"y\"] == 1].index)/N0)\n",
    "    print(\"P_1(1): \", len(curr_data[curr_data[\"race\"] == 1][curr_data[\"y\"] == 1].index)/N1)\n",
    "\n",
    "    ## Equalized Odds\n",
    "    print(\"\\nEqualized Odds\")\n",
    "    prior_00 = curr_data[curr_data[\"race\"] == 0][curr_data[\"two_year_recid\"]==0]\n",
    "    prior_10 = curr_data[curr_data[\"race\"] == 1][curr_data[\"two_year_recid\"]==0]\n",
    "    prior_01 = curr_data[curr_data[\"race\"] == 0][curr_data[\"two_year_recid\"]==1]\n",
    "    prior_11 = curr_data[curr_data[\"race\"] == 1][curr_data[\"two_year_recid\"]==1]\n",
    "    # True Negative\n",
    "    print(\"P_0(Y_hat = 0 | Y = 0): \", len(prior_00[curr_data[\"y\"] == 0].index)/len(prior_00.index))\n",
    "    print(\"P_1(Y_hat = 0 | Y = 0): \", len(prior_10[curr_data[\"y\"] == 0].index)/len(prior_10.index))\n",
    "    # True Positive\n",
    "    print(\"P_0(Y_hat = 1 | Y = 1): \", len(prior_01[curr_data[\"y\"] == 1].index)/len(prior_01.index))\n",
    "    print(\"P_1(Y_hat = 1 | Y = 1): \", len(prior_11[curr_data[\"y\"] == 1].index)/len(prior_11.index))\n",
    "\n",
    "    ## Predictive Parity\n",
    "    print(\"\\nPredictive Parity\")\n",
    "    prior_00h = curr_data[curr_data[\"race\"] == 0][curr_data[\"y\"]==0]\n",
    "    prior_10h = curr_data[curr_data[\"race\"] == 1][curr_data[\"y\"]==0]\n",
    "    prior_01h = curr_data[curr_data[\"race\"] == 0][curr_data[\"y\"]==1]\n",
    "    prior_11h = curr_data[curr_data[\"race\"] == 1][curr_data[\"y\"]==1]\n",
    "    # Negative Predicative\n",
    "    print(\"P_0(Y = 0 | Y_hat = 0): \", len(prior_00h[curr_data[\"two_year_recid\"] == 0].index)/len(prior_00h.index))\n",
    "    print(\"P_1(Y = 0 | Y_hat = 0): \", len(prior_10h[curr_data[\"two_year_recid\"] == 0].index)/len(prior_10h.index))\n",
    "    # Positive Predicative\n",
    "    print(\"P_0(Y = 1 | Y_hat = 1): \", len(prior_01h[curr_data[\"two_year_recid\"] == 1].index)/len(prior_01h.index))\n",
    "    print(\"P_1(Y = 1 | Y_hat = 1): \", len(prior_11h[curr_data[\"two_year_recid\"] == 1].index)/len(prior_11h.index))\n",
    "    \n",
    "    return"
   ]
  },
  {
   "cell_type": "code",
   "execution_count": 6,
   "metadata": {},
   "outputs": [
    {
     "name": "stdout",
     "output_type": "stream",
     "text": [
      "MLE  0.6415\n",
      "Demographic Parity\n",
      "P_0(0):  0.7896706586826348\n",
      "P_1(0):  0.8960843373493976\n",
      "P_0(1):  0.21032934131736528\n",
      "P_1(1):  0.10391566265060241\n",
      "\n",
      "Equalized Odds\n",
      "P_0(Y_hat = 0 | Y = 0):  0.9113372093023255\n",
      "P_1(Y_hat = 0 | Y = 0):  0.9553349875930521\n",
      "P_0(Y_hat = 1 | Y = 1):  0.3395061728395062\n",
      "P_1(Y_hat = 1 | Y = 1):  0.19540229885057472\n",
      "\n",
      "Predictive Parity\n",
      "P_0(Y = 0 | Y_hat = 0):  0.5943127962085308\n",
      "P_1(Y = 0 | Y_hat = 0):  0.6470588235294118\n",
      "P_0(Y = 1 | Y_hat = 1):  0.7829181494661922\n",
      "P_1(Y = 1 | Y_hat = 1):  0.7391304347826086\n"
     ]
    },
    {
     "name": "stderr",
     "output_type": "stream",
     "text": [
      "/usr/local/lib/python3.7/site-packages/ipykernel_launcher.py:8: UserWarning: Boolean Series key will be reindexed to match DataFrame index.\n",
      "  \n",
      "/usr/local/lib/python3.7/site-packages/ipykernel_launcher.py:9: UserWarning: Boolean Series key will be reindexed to match DataFrame index.\n",
      "  if __name__ == '__main__':\n",
      "/usr/local/lib/python3.7/site-packages/ipykernel_launcher.py:10: UserWarning: Boolean Series key will be reindexed to match DataFrame index.\n",
      "  # Remove the CWD from sys.path while we load stuff.\n",
      "/usr/local/lib/python3.7/site-packages/ipykernel_launcher.py:11: UserWarning: Boolean Series key will be reindexed to match DataFrame index.\n",
      "  # This is added back by InteractiveShellApp.init_path()\n",
      "/usr/local/lib/python3.7/site-packages/ipykernel_launcher.py:15: UserWarning: Boolean Series key will be reindexed to match DataFrame index.\n",
      "  from ipykernel import kernelapp as app\n",
      "/usr/local/lib/python3.7/site-packages/ipykernel_launcher.py:16: UserWarning: Boolean Series key will be reindexed to match DataFrame index.\n",
      "  app.launch_new_instance()\n",
      "/usr/local/lib/python3.7/site-packages/ipykernel_launcher.py:17: UserWarning: Boolean Series key will be reindexed to match DataFrame index.\n",
      "/usr/local/lib/python3.7/site-packages/ipykernel_launcher.py:18: UserWarning: Boolean Series key will be reindexed to match DataFrame index.\n",
      "/usr/local/lib/python3.7/site-packages/ipykernel_launcher.py:20: UserWarning: Boolean Series key will be reindexed to match DataFrame index.\n",
      "/usr/local/lib/python3.7/site-packages/ipykernel_launcher.py:21: UserWarning: Boolean Series key will be reindexed to match DataFrame index.\n",
      "/usr/local/lib/python3.7/site-packages/ipykernel_launcher.py:23: UserWarning: Boolean Series key will be reindexed to match DataFrame index.\n",
      "/usr/local/lib/python3.7/site-packages/ipykernel_launcher.py:24: UserWarning: Boolean Series key will be reindexed to match DataFrame index.\n",
      "/usr/local/lib/python3.7/site-packages/ipykernel_launcher.py:28: UserWarning: Boolean Series key will be reindexed to match DataFrame index.\n",
      "/usr/local/lib/python3.7/site-packages/ipykernel_launcher.py:29: UserWarning: Boolean Series key will be reindexed to match DataFrame index.\n",
      "/usr/local/lib/python3.7/site-packages/ipykernel_launcher.py:30: UserWarning: Boolean Series key will be reindexed to match DataFrame index.\n",
      "/usr/local/lib/python3.7/site-packages/ipykernel_launcher.py:31: UserWarning: Boolean Series key will be reindexed to match DataFrame index.\n",
      "/usr/local/lib/python3.7/site-packages/ipykernel_launcher.py:33: UserWarning: Boolean Series key will be reindexed to match DataFrame index.\n",
      "/usr/local/lib/python3.7/site-packages/ipykernel_launcher.py:34: UserWarning: Boolean Series key will be reindexed to match DataFrame index.\n",
      "/usr/local/lib/python3.7/site-packages/ipykernel_launcher.py:36: UserWarning: Boolean Series key will be reindexed to match DataFrame index.\n",
      "/usr/local/lib/python3.7/site-packages/ipykernel_launcher.py:37: UserWarning: Boolean Series key will be reindexed to match DataFrame index.\n"
     ]
    }
   ],
   "source": [
    "### MLE\n",
    "\n",
    "# get data\n",
    "train_data_m0 = train_data[train_data.two_year_recid==0].fillna(0)\n",
    "train_data_m1 = train_data[train_data.two_year_recid==1].fillna(0)\n",
    "test_data_m = test_data.copy()\n",
    "test_data_m[\"y\"] = -1\n",
    "\n",
    "# drop linearly dependent columns\n",
    "attr_m = attr[:-1]\n",
    "\n",
    "# generate Gaussian for the two classes\n",
    "mu_0, var_0 = gaussian(train_data_m0[attr_m])\n",
    "mu_1, var_1 = gaussian(train_data_m1[attr_m])\n",
    "\n",
    "model_0 = sc.multivariate_normal(mean=mu_0, cov=var_0)\n",
    "model_1 = sc.multivariate_normal(mean=mu_1, cov=var_1)\n",
    "\n",
    "# testing\n",
    "for i in range(len(test_data_m.index)):\n",
    "    p_0 = model_0.pdf(test_data_m[attr_m].iloc[i])\n",
    "    p_1 = model_1.pdf(test_data_m[attr_m].iloc[i])\n",
    "\n",
    "    if p_0 > p_1:\n",
    "        test_data_m[\"y\"].iloc[i] = 0\n",
    "    else:\n",
    "        test_data_m[\"y\"].iloc[i] = 1\n",
    "\n",
    "print(\"MLE \", len(test_data_m[test_data_m[\"two_year_recid\"] == test_data_m[\"y\"]].index)/len(test_data_m.index))\n",
    "print_fairness(test_data_m)"
   ]
  },
  {
   "cell_type": "code",
   "execution_count": 7,
   "metadata": {},
   "outputs": [
    {
     "name": "stdout",
     "output_type": "stream",
     "text": [
      "0.695\n",
      "Demographic Parity\n",
      "P_0(0):  0.5239520958083832\n",
      "P_1(0):  0.7364457831325302\n",
      "P_0(1):  0.47604790419161674\n",
      "P_1(1):  0.2635542168674699\n",
      "\n",
      "Equalized Odds\n",
      "P_0(Y_hat = 0 | Y = 0):  0.7122093023255814\n",
      "P_1(Y_hat = 0 | Y = 0):  0.8560794044665012\n",
      "P_0(Y_hat = 1 | Y = 1):  0.6759259259259259\n",
      "P_1(Y_hat = 1 | Y = 1):  0.4482758620689655\n",
      "\n",
      "Predictive Parity\n",
      "P_0(Y = 0 | Y_hat = 0):  0.7\n",
      "P_1(Y = 0 | Y_hat = 0):  0.7055214723926381\n",
      "P_0(Y = 1 | Y_hat = 1):  0.6886792452830188\n",
      "P_1(Y = 1 | Y_hat = 1):  0.6685714285714286\n"
     ]
    },
    {
     "name": "stderr",
     "output_type": "stream",
     "text": [
      "/usr/local/lib/python3.7/site-packages/ipykernel_launcher.py:8: UserWarning: Boolean Series key will be reindexed to match DataFrame index.\n",
      "  \n",
      "/usr/local/lib/python3.7/site-packages/ipykernel_launcher.py:9: UserWarning: Boolean Series key will be reindexed to match DataFrame index.\n",
      "  if __name__ == '__main__':\n",
      "/usr/local/lib/python3.7/site-packages/ipykernel_launcher.py:10: UserWarning: Boolean Series key will be reindexed to match DataFrame index.\n",
      "  # Remove the CWD from sys.path while we load stuff.\n",
      "/usr/local/lib/python3.7/site-packages/ipykernel_launcher.py:11: UserWarning: Boolean Series key will be reindexed to match DataFrame index.\n",
      "  # This is added back by InteractiveShellApp.init_path()\n",
      "/usr/local/lib/python3.7/site-packages/ipykernel_launcher.py:15: UserWarning: Boolean Series key will be reindexed to match DataFrame index.\n",
      "  from ipykernel import kernelapp as app\n",
      "/usr/local/lib/python3.7/site-packages/ipykernel_launcher.py:16: UserWarning: Boolean Series key will be reindexed to match DataFrame index.\n",
      "  app.launch_new_instance()\n",
      "/usr/local/lib/python3.7/site-packages/ipykernel_launcher.py:17: UserWarning: Boolean Series key will be reindexed to match DataFrame index.\n",
      "/usr/local/lib/python3.7/site-packages/ipykernel_launcher.py:18: UserWarning: Boolean Series key will be reindexed to match DataFrame index.\n",
      "/usr/local/lib/python3.7/site-packages/ipykernel_launcher.py:20: UserWarning: Boolean Series key will be reindexed to match DataFrame index.\n",
      "/usr/local/lib/python3.7/site-packages/ipykernel_launcher.py:21: UserWarning: Boolean Series key will be reindexed to match DataFrame index.\n",
      "/usr/local/lib/python3.7/site-packages/ipykernel_launcher.py:23: UserWarning: Boolean Series key will be reindexed to match DataFrame index.\n",
      "/usr/local/lib/python3.7/site-packages/ipykernel_launcher.py:24: UserWarning: Boolean Series key will be reindexed to match DataFrame index.\n",
      "/usr/local/lib/python3.7/site-packages/ipykernel_launcher.py:28: UserWarning: Boolean Series key will be reindexed to match DataFrame index.\n",
      "/usr/local/lib/python3.7/site-packages/ipykernel_launcher.py:29: UserWarning: Boolean Series key will be reindexed to match DataFrame index.\n",
      "/usr/local/lib/python3.7/site-packages/ipykernel_launcher.py:30: UserWarning: Boolean Series key will be reindexed to match DataFrame index.\n",
      "/usr/local/lib/python3.7/site-packages/ipykernel_launcher.py:31: UserWarning: Boolean Series key will be reindexed to match DataFrame index.\n",
      "/usr/local/lib/python3.7/site-packages/ipykernel_launcher.py:33: UserWarning: Boolean Series key will be reindexed to match DataFrame index.\n",
      "/usr/local/lib/python3.7/site-packages/ipykernel_launcher.py:34: UserWarning: Boolean Series key will be reindexed to match DataFrame index.\n",
      "/usr/local/lib/python3.7/site-packages/ipykernel_launcher.py:36: UserWarning: Boolean Series key will be reindexed to match DataFrame index.\n",
      "/usr/local/lib/python3.7/site-packages/ipykernel_launcher.py:37: UserWarning: Boolean Series key will be reindexed to match DataFrame index.\n"
     ]
    }
   ],
   "source": [
    "### KNN\n",
    "\n",
    "k = 90\n",
    "p = 2\n",
    "\n",
    "train_data_knn = train_data.copy()\n",
    "test_data_knn = test_data.copy()\n",
    "test_data_knn[\"y\"] = -1\n",
    "\n",
    "for i in range(len(test_data_knn.index)):\n",
    "    distance = sp.cdist(train_data_knn[attr], test_data_knn[attr][i:i+1], 'minkowski', p)\n",
    "    neighbors = np.apply_along_axis(np.argpartition, 0, distance, k)[:k] \n",
    "    test_data_knn.iloc[i][\"y\"] = train_data_knn.iloc[list(neighbors[:, 0]), :][\"two_year_recid\"].mode()[0]\n",
    "\n",
    "print(len(test_data_knn[test_data_knn[\"two_year_recid\"] == test_data_knn[\"y\"]].index)/len(test_data_knn.index))\n",
    "print_fairness(test_data_knn)"
   ]
  },
  {
   "cell_type": "code",
   "execution_count": 8,
   "metadata": {},
   "outputs": [
    {
     "name": "stdout",
     "output_type": "stream",
     "text": [
      "0.68\n",
      "Demographic Parity\n",
      "P_0(0):  0.5291916167664671\n",
      "P_1(0):  0.7801204819277109\n",
      "P_0(1):  0.4708083832335329\n",
      "P_1(1):  0.21987951807228914\n",
      "\n",
      "Equalized Odds\n",
      "P_0(Y_hat = 0 | Y = 0):  0.7063953488372093\n",
      "P_1(Y_hat = 0 | Y = 0):  0.8734491315136477\n",
      "P_0(Y_hat = 1 | Y = 1):  0.6589506172839507\n",
      "P_1(Y_hat = 1 | Y = 1):  0.36398467432950193\n",
      "\n",
      "Predictive Parity\n",
      "P_0(Y = 0 | Y_hat = 0):  0.6874115983026874\n",
      "P_1(Y = 0 | Y_hat = 0):  0.6795366795366795\n",
      "P_0(Y = 1 | Y_hat = 1):  0.6788553259141494\n",
      "P_1(Y = 1 | Y_hat = 1):  0.6506849315068494\n"
     ]
    },
    {
     "name": "stderr",
     "output_type": "stream",
     "text": [
      "/usr/local/lib/python3.7/site-packages/ipykernel_launcher.py:8: UserWarning: Boolean Series key will be reindexed to match DataFrame index.\n",
      "  \n",
      "/usr/local/lib/python3.7/site-packages/ipykernel_launcher.py:9: UserWarning: Boolean Series key will be reindexed to match DataFrame index.\n",
      "  if __name__ == '__main__':\n",
      "/usr/local/lib/python3.7/site-packages/ipykernel_launcher.py:10: UserWarning: Boolean Series key will be reindexed to match DataFrame index.\n",
      "  # Remove the CWD from sys.path while we load stuff.\n",
      "/usr/local/lib/python3.7/site-packages/ipykernel_launcher.py:11: UserWarning: Boolean Series key will be reindexed to match DataFrame index.\n",
      "  # This is added back by InteractiveShellApp.init_path()\n",
      "/usr/local/lib/python3.7/site-packages/ipykernel_launcher.py:15: UserWarning: Boolean Series key will be reindexed to match DataFrame index.\n",
      "  from ipykernel import kernelapp as app\n",
      "/usr/local/lib/python3.7/site-packages/ipykernel_launcher.py:16: UserWarning: Boolean Series key will be reindexed to match DataFrame index.\n",
      "  app.launch_new_instance()\n",
      "/usr/local/lib/python3.7/site-packages/ipykernel_launcher.py:17: UserWarning: Boolean Series key will be reindexed to match DataFrame index.\n",
      "/usr/local/lib/python3.7/site-packages/ipykernel_launcher.py:18: UserWarning: Boolean Series key will be reindexed to match DataFrame index.\n",
      "/usr/local/lib/python3.7/site-packages/ipykernel_launcher.py:20: UserWarning: Boolean Series key will be reindexed to match DataFrame index.\n",
      "/usr/local/lib/python3.7/site-packages/ipykernel_launcher.py:21: UserWarning: Boolean Series key will be reindexed to match DataFrame index.\n",
      "/usr/local/lib/python3.7/site-packages/ipykernel_launcher.py:23: UserWarning: Boolean Series key will be reindexed to match DataFrame index.\n",
      "/usr/local/lib/python3.7/site-packages/ipykernel_launcher.py:24: UserWarning: Boolean Series key will be reindexed to match DataFrame index.\n",
      "/usr/local/lib/python3.7/site-packages/ipykernel_launcher.py:28: UserWarning: Boolean Series key will be reindexed to match DataFrame index.\n",
      "/usr/local/lib/python3.7/site-packages/ipykernel_launcher.py:29: UserWarning: Boolean Series key will be reindexed to match DataFrame index.\n",
      "/usr/local/lib/python3.7/site-packages/ipykernel_launcher.py:30: UserWarning: Boolean Series key will be reindexed to match DataFrame index.\n",
      "/usr/local/lib/python3.7/site-packages/ipykernel_launcher.py:31: UserWarning: Boolean Series key will be reindexed to match DataFrame index.\n",
      "/usr/local/lib/python3.7/site-packages/ipykernel_launcher.py:33: UserWarning: Boolean Series key will be reindexed to match DataFrame index.\n",
      "/usr/local/lib/python3.7/site-packages/ipykernel_launcher.py:34: UserWarning: Boolean Series key will be reindexed to match DataFrame index.\n",
      "/usr/local/lib/python3.7/site-packages/ipykernel_launcher.py:36: UserWarning: Boolean Series key will be reindexed to match DataFrame index.\n",
      "/usr/local/lib/python3.7/site-packages/ipykernel_launcher.py:37: UserWarning: Boolean Series key will be reindexed to match DataFrame index.\n"
     ]
    }
   ],
   "source": [
    "## BAY\n",
    "\n",
    "#split data \n",
    "train_data_b0 = train_data[train_data.two_year_recid==0].apply(pd.Series.value_counts).fillna(0)\n",
    "train_data_b1 = train_data[train_data.two_year_recid==1].apply(pd.Series.value_counts).fillna(0)\n",
    "\n",
    "#get counts and adjust for proportion\n",
    "counts = train_data.two_year_recid.value_counts()\n",
    "train_data_b0 = train_data_b0/counts[0]\n",
    "train_data_b1 = train_data_b1/counts[1]\n",
    "counts = counts/counts.sum()\n",
    "\n",
    "#get test data\n",
    "test_data_bayes = test_data.copy()\n",
    "test_data_bayes[\"y\"] = -1\n",
    "\n",
    "#classification\n",
    "for row in test_data.itertuples():\n",
    "    p_0 = bayes_prob(row, train_data_b0, attr) * counts[0]\n",
    "    p_1 = bayes_prob(row, train_data_b1, attr) * counts[1]\n",
    "\n",
    "    #give label\n",
    "    if p_0 > p_1:\n",
    "        test_data_bayes[\"y\"].loc[row[0]] = 0\n",
    "    else:\n",
    "        test_data_bayes[\"y\"].loc[row[0]] = 1\n",
    "\n",
    "print(len(test_data_bayes[test_data_bayes[\"two_year_recid\"] == test_data_bayes[\"y\"]].index)/len(test_data_bayes.index))\n",
    "print_fairness(test_data_bayes)"
   ]
  },
  {
   "cell_type": "code",
   "execution_count": 49,
   "metadata": {},
   "outputs": [],
   "source": [
    "# Define Plotting Variables \n",
    "\n",
    "DP = np.array([[0.7896706586826348, 0.8960843373493976],   # MLE\n",
    "               [0.5239520958083832, 0.7364457831325302],   # KNN\n",
    "               [0.5291916167664671, 0.7801204819277109]])  # BAY\n",
    "EO_neg = np.array([[0.9113372093023255, 0.9553349875930521],\n",
    "                   [0.7122093023255814, 0.8560794044665012],\n",
    "                   [0.7063953488372093, 0.8734491315136477]])\n",
    "EO_pos = np.array([[0.3395061728395062, 0.19540229885057472],\n",
    "                   [0.6759259259259259, 0.4482758620689655],\n",
    "                   [0.6589506172839507, 0.36398467432950193]])\n",
    "PP_neg = np.array([[0.5943127962085308, 0.6470588235294118],\n",
    "                   [0.7,  0.7055214723926381],\n",
    "                   [0.6874115983026874, 0.6795366795366795]] )\n",
    "PP_pos = np.array([[0.3395061728395062, 0.19540229885057472],\n",
    "                   [0.6886792452830188, 0.6685714285714286],\n",
    "                   [0.6788553259141494, 0.6506849315068494]])"
   ]
  },
  {
   "cell_type": "code",
   "execution_count": 40,
   "metadata": {},
   "outputs": [],
   "source": [
    "def plot_fairness(data, name):\n",
    "    N = 3\n",
    "    ind = np.arange(N)  # the x locations for the groups\n",
    "    width = 0.27       # the width of the bars\n",
    "\n",
    "    fig = plt.figure()\n",
    "    ax = fig.add_subplot(111)\n",
    "\n",
    "    yvals = data[:,0]\n",
    "    rects1 = ax.bar(ind, yvals, width, color='blue')\n",
    "    zvals = data[:,1]\n",
    "    rects2 = ax.bar(ind+width, zvals, width, color='orange')\n",
    "\n",
    "    ax.set_ylabel('Probability')\n",
    "    ax.set_xticks(ind+width)\n",
    "    ax.set_xticklabels( ('MLE', 'KNN', 'Bayes') )\n",
    "    ax.legend( (rects1[0], rects2[0]), ('P0', 'P1'), loc='lower left')\n",
    "\n",
    "    def autolabel(rects):\n",
    "        for rect in rects:\n",
    "            h = rect.get_height()\n",
    "            ax.text(rect.get_x()+rect.get_width()/2., 1.0*h, '%.3f'%h,\n",
    "                    ha='center', va='bottom')\n",
    "\n",
    "    autolabel(rects1)\n",
    "    autolabel(rects2)\n",
    "    plt.title(name)\n",
    "    plt.show()\n",
    "    \n",
    "    return"
   ]
  },
  {
   "cell_type": "code",
   "execution_count": 42,
   "metadata": {},
   "outputs": [
    {
     "data": {
      "image/png": "[encoded data removed]",
      "text/plain": [
       "<Figure size 432x288 with 1 Axes>"
      ]
     },
     "metadata": {},
     "output_type": "display_data"
    }
   ],
   "source": [
    "plot_fairness(DP, \"Demographic Parity\")"
   ]
  },
  {
   "cell_type": "code",
   "execution_count": 47,
   "metadata": {},
   "outputs": [
    {
     "data": {
      "image/png": "[encoded data removed]",
      "text/plain": [
       "<Figure size 432x288 with 1 Axes>"
      ]
     },
     "metadata": {},
     "output_type": "display_data"
    }
   ],
   "source": [
    "plot_fairness(EO_neg, \"Equalized Odds\")"
   ]
  },
  {
   "cell_type": "code",
   "execution_count": 50,
   "metadata": {},
   "outputs": [
    {
     "data": {
      "image/png": "[encoded data removed]",
      "text/plain": [
       "<Figure size 432x288 with 1 Axes>"
      ]
     },
     "metadata": {},
     "output_type": "display_data"
    }
   ],
   "source": [
    "plot_fairness(EO_pos, \"Equalized Odds\")"
   ]
  },
  {
   "cell_type": "code",
   "execution_count": 31,
   "metadata": {},
   "outputs": [
    {
     "data": {
      "text/plain": [
       "0.7896706586826348"
      ]
     },
     "execution_count": 31,
     "metadata": {},
     "output_type": "execute_result"
    }
   ],
   "source": [
    "rects1[0].get_height()"
   ]
  },
  {
   "cell_type": "code",
   "execution_count": null,
   "metadata": {},
   "outputs": [],
   "source": []
  }
 ],
 "metadata": {
  "kernelspec": {
   "display_name": "Python 3",
   "language": "python",
   "name": "python3"
  },
  "language_info": {
   "codemirror_mode": {
    "name": "ipython",
    "version": 3
   },
   "file_extension": ".py",
   "mimetype": "text/x-python",
   "name": "python",
   "nbconvert_exporter": "python",
   "pygments_lexer": "ipython3",
   "version": "3.7.6"
  }
 },
 "nbformat": 4,
 "nbformat_minor": 2
}
