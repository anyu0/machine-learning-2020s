{
 "cells": [
  {
   "cell_type": "markdown",
   "metadata": {},
   "source": [
    "# Importing packages and getting data"
   ]
  },
  {
   "cell_type": "code",
   "execution_count": 3,
   "metadata": {},
   "outputs": [],
   "source": [
    "import numpy as np\n",
    "import pandas as pd\n",
    "import scipy.stats as sc\n",
    "import scipy.spatial.distance as sp\n",
    "\n",
    "train_data = pd.read_csv(\"propublicaTrain.csv\")\n",
    "test_data = pd.read_csv(\"propublicaTest.csv\")\n",
    "attr = train_data.columns.drop(\"two_year_recid\")"
   ]
  },
  {
   "cell_type": "markdown",
   "metadata": {},
   "source": [
    "# Helper functions"
   ]
  },
  {
   "cell_type": "code",
   "execution_count": 4,
   "metadata": {
    "scrolled": true
   },
   "outputs": [],
   "source": [
    "def gaussian(data):\n",
    "    mu = data.mean(axis=0)   \n",
    "    var = (data-mu).T @ (data-mu) / data.shape[0]\n",
    "    return mu, var\n",
    "\n",
    "def bayes_prob(row, train, attr):\n",
    "    p = 1\n",
    "    for i in range(len(attr)):\n",
    "        if row[i+2] in train.index:\n",
    "            p = p * train.loc[row[i+2]][attr[i]]\n",
    "        else:\n",
    "            return 0\n",
    "    return p"
   ]
  },
  {
   "cell_type": "markdown",
   "metadata": {},
   "source": [
    "# Maximum Likelihood Estimator"
   ]
  },
  {
   "cell_type": "code",
   "execution_count": 14,
   "metadata": {},
   "outputs": [],
   "source": [
    "def MLE(train_data):\n",
    "    \n",
    "    # get data\n",
    "    train_data_m0 = train_data[train_data.two_year_recid==0].fillna(0)\n",
    "    train_data_m1 = train_data[train_data.two_year_recid==1].fillna(0)\n",
    "    test_data_m = test_data.copy()\n",
    "    test_data_m[\"y\"] = -1\n",
    "\n",
    "    # drop linearly dependent columns\n",
    "    attr_m = attr[:-1]\n",
    "    \n",
    "    # generate Gaussian for the two classes\n",
    "    mu_0, var_0 = gaussian(train_data_m0[attr_m])\n",
    "    mu_1, var_1 = gaussian(train_data_m1[attr_m])\n",
    "    \n",
    "    model_0 = sc.multivariate_normal(mean=mu_0, cov=var_0)\n",
    "    model_1 = sc.multivariate_normal(mean=mu_1, cov=var_1)\n",
    "\n",
    "    # testing\n",
    "    for i in range(len(test_data_m.index)):\n",
    "        p_0 = model_0.pdf(test_data_m[attr_m].iloc[i])\n",
    "        p_1 = model_1.pdf(test_data_m[attr_m].iloc[i])\n",
    "\n",
    "        if p_0 > p_1:\n",
    "            test_data_m[\"y\"].iloc[i] = 0\n",
    "        else:\n",
    "            test_data_m[\"y\"].iloc[i] = 1\n",
    "            \n",
    "    return len(test_data_m[test_data_m[\"two_year_recid\"] == test_data_m[\"y\"]].index)/len(test_data_m.index)"
   ]
  },
  {
   "cell_type": "code",
   "execution_count": 15,
   "metadata": {},
   "outputs": [
    {
     "data": {
      "text/plain": [
       "0.6415"
      ]
     },
     "execution_count": 15,
     "metadata": {},
     "output_type": "execute_result"
    }
   ],
   "source": [
    "MLE(train_data)"
   ]
  },
  {
   "cell_type": "markdown",
   "metadata": {},
   "source": [
    "# K Nearest Neighbors"
   ]
  },
  {
   "cell_type": "code",
   "execution_count": 17,
   "metadata": {
    "scrolled": true
   },
   "outputs": [],
   "source": [
    "def KNN(k, p, train_data):\n",
    "    train_data_knn = train_data.copy()\n",
    "    test_data_knn = test_data.copy()\n",
    "    test_data_knn[\"y\"] = -1\n",
    "\n",
    "    for i in range(len(test_data_knn.index)):\n",
    "        temp = train_data_knn[attr].subtract(test_data_knn.iloc[i][attr])\n",
    "        train_data_knn[\"distance\"] = temp.apply(np.linalg.norm, ord=p, axis=1)\n",
    "        train_data_knn = train_data_knn.sort_values(by=\"distance\", ascending=True)\n",
    "        test_data_knn[\"y\"].iloc[i] = train_data_knn[:1][\"two_year_recid\"].value_counts().idxmax()\n",
    "    \n",
    "    return len(test_data_knn[test_data_knn[\"two_year_recid\"] == test_data_knn[\"y\"]].index)/len(test_data_knn.index)\n",
    "    "
   ]
  },
  {
   "cell_type": "code",
   "execution_count": 18,
   "metadata": {
    "scrolled": true
   },
   "outputs": [
    {
     "data": {
      "text/plain": [
       "0.6055"
      ]
     },
     "execution_count": 18,
     "metadata": {},
     "output_type": "execute_result"
    }
   ],
   "source": [
    "KNN(1, 2, train_data)"
   ]
  },
  {
   "cell_type": "code",
   "execution_count": 21,
   "metadata": {
    "scrolled": true
   },
   "outputs": [],
   "source": []
  },
  {
   "cell_type": "code",
   "execution_count": 22,
   "metadata": {},
   "outputs": [
    {
     "name": "stdout",
     "output_type": "stream",
     "text": [
      "0.605\n",
      "0.6485\n",
      "0.684\n",
      "0.6905\n",
      "0.6785\n"
     ]
    }
   ],
   "source": [
    "print(len(test_data_knn[test_data_knn[\"two_year_recid\"] == test_data_knn[\"y_1\"]].index)/len(test_data_knn.index))\n",
    "print(len(test_data_knn[test_data_knn[\"two_year_recid\"] == test_data_knn[\"y_10\"]].index)/len(test_data_knn.index))\n",
    "print(len(test_data_knn[test_data_knn[\"two_year_recid\"] == test_data_knn[\"y_50\"]].index)/len(test_data_knn.index))\n",
    "print(len(test_data_knn[test_data_knn[\"two_year_recid\"] == test_data_knn[\"y_200\"]].index)/len(test_data_knn.index))\n",
    "print(len(test_data_knn[test_data_knn[\"two_year_recid\"] == test_data_knn[\"y_1000\"]].index)/len(test_data_knn.index))\n"
   ]
  },
  {
   "cell_type": "code",
   "execution_count": null,
   "metadata": {},
   "outputs": [],
   "source": []
  },
  {
   "cell_type": "markdown",
   "metadata": {},
   "source": [
    "# Bayes Classifier"
   ]
  },
  {
   "cell_type": "code",
   "execution_count": 19,
   "metadata": {
    "scrolled": true
   },
   "outputs": [],
   "source": [
    "#split data \n",
    "train_data_b0 = train_data[train_data.two_year_recid==0].apply(pd.Series.value_counts).fillna(0)\n",
    "train_data_b1 = train_data[train_data.two_year_recid==1].apply(pd.Series.value_counts).fillna(0)\n",
    "\n",
    "#get counts and adjust for proportion\n",
    "counts = train_data.two_year_recid.value_counts()\n",
    "train_data_b0 = train_data_b0/counts[0]\n",
    "train_data_b1 = train_data_b1/counts[1]\n",
    "counts = counts/counts.sum()\n",
    "\n",
    "#get test data\n",
    "test_data_bayes = test_data.copy()\n",
    "test_data_bayes[\"y\"] = -1\n",
    "\n",
    "#classification\n",
    "for row in test_data.itertuples():\n",
    "    p_0 = bayes_prob(row, train_data_b0, attr) * counts[0]\n",
    "    p_1 = bayes_prob(row, train_data_b1, attr) * counts[1]\n",
    "\n",
    "    #give label\n",
    "    if p_0 > p_1:\n",
    "        test_data_bayes[\"y\"].loc[row[0]] = 0\n",
    "    else:\n",
    "        test_data_bayes[\"y\"].loc[row[0]] = 1\n",
    "        \n"
   ]
  },
  {
   "cell_type": "code",
   "execution_count": 20,
   "metadata": {
    "scrolled": true
   },
   "outputs": [
    {
     "data": {
      "text/plain": [
       "0.68"
      ]
     },
     "execution_count": 20,
     "metadata": {},
     "output_type": "execute_result"
    }
   ],
   "source": [
    "len(test_data_bayes[test_data_bayes[\"two_year_recid\"] == test_data_bayes[\"y\"]].index)/len(test_data_bayes.index)"
   ]
  },
  {
   "cell_type": "code",
   "execution_count": 21,
   "metadata": {
    "scrolled": true
   },
   "outputs": [
    {
     "data": {
      "text/plain": [
       "array([ 0, 37, -1,  0,  0, -1, -5, -1,  1])"
      ]
     },
     "execution_count": 21,
     "metadata": {},
     "output_type": "execute_result"
    }
   ],
   "source": [
    "(train_data.iloc[0]-test_data.iloc[0])[attr].values\n"
   ]
  },
  {
   "cell_type": "code",
   "execution_count": null,
   "metadata": {},
   "outputs": [],
   "source": []
  }
 ],
 "metadata": {
  "kernelspec": {
   "display_name": "Python 3",
   "language": "python",
   "name": "python3"
  },
  "language_info": {
   "codemirror_mode": {
    "name": "ipython",
    "version": 3
   },
   "file_extension": ".py",
   "mimetype": "text/x-python",
   "name": "python",
   "nbconvert_exporter": "python",
   "pygments_lexer": "ipython3",
   "version": "3.7.6"
  }
 },
 "nbformat": 4,
 "nbformat_minor": 2
}
