{
 "cells": [
  {
   "cell_type": "markdown",
   "metadata": {},
   "source": [
    " (Full) Gradient Descent (GD)\n",
    "• Stochastic Gradient Descent (SGD)\n",
    "• SGD with Momentum (SGDM)\n",
    "• Adaptive Gradient (AdaGrad)\n",
    "• RMSProp\n",
    "• AdaDelta\n",
    "• Adaptive Momentum (ADAM)\n",
    "\n",
    "Describe each of the techniques in detail. Compare and contrast the relative advantages and\n",
    "disadvantages of each of the techniques. Are there specific types of datasets where one technique is expected to perform better than the other? if so, why? Provide detailed justifications\n",
    "for each.\n",
    "\n",
    "Datasets: linearly separable and non-separable\n",
    "https://machinelearningmastery.com/generate-test-datasets-python-scikit-learn/\n",
    "https://scikit-learn.org/stable/modules/generated/sklearn.datasets.make_blobs.html\n",
    "https://stackoverflow.com/questions/47961536/how-to-generate-linear-separable-dataset-by-using-sklearn-datasets-make-classifi\n",
    "\n",
    "1) write logreg\n",
    "2) write cost functions: 1) linear, 2) log\n",
    "https://www.internalpointers.com/post/cost-function-logistic-regression\n",
    "3) finish methods"
   ]
  },
  {
   "cell_type": "code",
   "execution_count": 1,
   "metadata": {},
   "outputs": [],
   "source": [
    "import numpy as np\n",
    "import pandas as pd\n",
    "\n",
    "from sklearn.datasets import make_blobs\n",
    "from matplotlib import pyplot as plt"
   ]
  },
  {
   "cell_type": "code",
   "execution_count": 2,
   "metadata": {},
   "outputs": [],
   "source": [
    "def split(dataset, y, ratio):\n",
    "    msk = np.random.rand(len(dataset)) < ratio\n",
    "    return dataset[msk], dataset[~msk], y[msk], y[~msk]"
   ]
  },
  {
   "cell_type": "code",
   "execution_count": 3,
   "metadata": {},
   "outputs": [],
   "source": [
    "def logreg(X, theta):\n",
    "    return 1/(1+np.exp(-(X @ theta)))\n",
    "              \n",
    "def log_cost(pred, y):\n",
    "    n = len(y)\n",
    "    eps = 0.000001\n",
    "    return np.sum(y*-1*np.log(pred+eps) - (1-y)*np.log(1-pred+eps))/n\n",
    "                    \n",
    "def lin_cost(pred, y):\n",
    "    n = len(y)\n",
    "    return np.sum(np.square(pred-y))/(2*n)\n",
    "\n",
    "def predict(X, theta, y):\n",
    "    label = np.round(logreg(X, theta))\n",
    "    print(np.sum(label))\n",
    "    return np.sum(label == y)/len(y)"
   ]
  },
  {
   "cell_type": "code",
   "execution_count": 1058,
   "metadata": {},
   "outputs": [],
   "source": [
    "def gd(X, y, eta, n, log=True):\n",
    "    #set-up\n",
    "    f = X.shape[1]\n",
    "    theta = np.zeros(f)\n",
    "    \n",
    "    for i in range(n):\n",
    "        #adjust theta\n",
    "        pred = logreg(X, theta)\n",
    "        theta = theta - eta * 1/len(y) * (X.T @ (pred-y))\n",
    "    return theta\n",
    "\n",
    "def sgd(X, y, eta, n, batch, log=True):\n",
    "    #set-up\n",
    "    f = X.shape[1]\n",
    "    theta = np.zeros(f)\n",
    "\n",
    "    for i in range(n):\n",
    "        #shuffle data\n",
    "        ind = list(range(0, X.shape[0]))\n",
    "        np.random.shuffle(ind)\n",
    "        X = X[ind]\n",
    "        y = y[ind]\n",
    "\n",
    "        j=0\n",
    "        while ((len(y)-j) > batch):\n",
    "            sample_X = X[j:j+batch]\n",
    "            sample_y = y[j:j+batch]\n",
    "\n",
    "            #adjust theta\n",
    "            pred = logreg(sample_X, theta)\n",
    "            theta = theta - eta * 1/batch * (sample_X.T @ (pred-sample_y))\n",
    "            j += batch\n",
    "    return theta\n",
    "\n",
    "def sgdm(X, y, eta, gamma, n, batch, log=True):\n",
    "    #set-up\n",
    "    f = X.shape[1]\n",
    "    theta = np.zeros(f)\n",
    "    \n",
    "    for i in range(n):\n",
    "        #shuffle data\n",
    "        ind = list(range(0, X.shape[0]))\n",
    "        np.random.shuffle(ind)\n",
    "        X = X[ind]\n",
    "        y = y[ind]\n",
    "\n",
    "        j=0\n",
    "        while ((len(y)-j) > batch):\n",
    "            sample_X = X[j:j+batch]\n",
    "            sample_y = y[j:j+batch]\n",
    "\n",
    "            #get prediction\n",
    "            pred = logreg(sample_X, theta)\n",
    "\n",
    "            #if first time, initialize v_{t-1}\n",
    "            if i == 0 and j == 0:\n",
    "                theta = theta - eta * 1/batch * (sample_X.T @ (pred-sample_y))\n",
    "                last_v = theta\n",
    "\n",
    "            #else, adjust theta\n",
    "            else:\n",
    "                last_v = gamma * last_v + eta * 1/len(sample_y) * (sample_X.T @ (pred-sample_y))\n",
    "                theta = theta - last_v\n",
    "            j += batch\n",
    "    return theta\n",
    "\n",
    "def adagrad(X, y, eta, n, batch, log=True):\n",
    "    #set-up\n",
    "    f = X.shape[1]\n",
    "    theta = np.zeros(f)\n",
    "    diag = np.zeros(f)\n",
    "    eps = 0.0000001\n",
    "    \n",
    "    G = np.zeros((f, f))\n",
    "    for i in range(n):\n",
    "        #shuffle data\n",
    "        ind = list(range(0, X.shape[0]))\n",
    "        np.random.shuffle(ind)\n",
    "        X = X[ind]\n",
    "        y = y[ind]\n",
    "\n",
    "        j=0\n",
    "        \n",
    "        while ((len(y)-j) > batch):\n",
    "            sample_X = X[j:j+batch]\n",
    "            sample_y = y[j:j+batch]\n",
    "\n",
    "            #get prediction\n",
    "            pred = logreg(sample_X, theta)\n",
    "\n",
    "            #compute G        \n",
    "            \n",
    "            gradient = sample_X.T @ (pred-sample_y)\n",
    "            diag += gradient**2\n",
    "            temp_diag = eta/(np.sqrt(diag)+eps)\n",
    "            np.fill_diagonal(G, temp_diag)\n",
    "\n",
    "            #compute theta\n",
    "            theta = theta - G @ gradient\n",
    "            j+= batch\n",
    "        \n",
    "    return theta\n",
    "\n",
    "def rmsprop(X, y, eta, gamma, n, batch, log=True):\n",
    "    #set-up\n",
    "    f = X.shape[1]\n",
    "    theta = np.zeros(f)\n",
    "    diag = np.zeros(f)\n",
    "    eps = 0.0000001\n",
    "    prev_g2 = 0 \n",
    "    G = np.zeros((f, f))\n",
    "    for i in range(n):\n",
    "        #shuffle data\n",
    "        ind = list(range(0, X.shape[0]))\n",
    "        np.random.shuffle(ind)\n",
    "        X = X[ind]\n",
    "        y = y[ind]\n",
    "\n",
    "        j=0\n",
    "        \n",
    "        while ((len(y)-j) > batch):\n",
    "            sample_X = X[j:j+batch]\n",
    "            sample_y = y[j:j+batch]\n",
    "\n",
    "        \n",
    "            #get predictions and gradients\n",
    "            pred = logreg(sample_X, theta)\n",
    "\n",
    "            #compute G       \n",
    "            G = np.zeros((f, f))\n",
    "            gradient = sample_X.T @ (pred-sample_y)\n",
    "            prev_g2 = gamma*prev_g2 + (1-gamma)*gradient**2\n",
    "            temp_diag = eta/(np.sqrt(prev_g2)+eps)\n",
    "            np.fill_diagonal(G, temp_diag)\n",
    "\n",
    "            #compute theta\n",
    "            theta = theta - G @ gradient\n",
    "        \n",
    "            j+=batch\n",
    "    return theta\n",
    "\n",
    "def adadelta(X, y, gamma, n, batch, log=True):\n",
    "    #set-up\n",
    "    f = X.shape[1]\n",
    "    theta = np.zeros(f)\n",
    "    diag = np.zeros(f)\n",
    "    eps = 0.0000001\n",
    "    prev_e_delta = 0 \n",
    "    prev_g2 = 0\n",
    "    prev_delta = 0\n",
    "    \n",
    "    for i in range(n):\n",
    "        #shuffle data\n",
    "        ind = list(range(0, X.shape[0]))\n",
    "        np.random.shuffle(ind)\n",
    "        X = X[ind]\n",
    "        y = y[ind]\n",
    "\n",
    "        j=0\n",
    "        \n",
    "        while ((len(y)-j) > batch):\n",
    "            sample_X = X[j:j+batch]\n",
    "            sample_y = y[j:j+batch]\n",
    "\n",
    "        \n",
    "            #get predictions and gradients\n",
    "            pred = logreg(sample_X, theta)\n",
    "\n",
    "            #compute rms_g\n",
    "            gradient = sample_X.T @ (pred-sample_y)\n",
    "            prev_g2 = gamma*prev_g2 + (1-gamma)*gradient**2 \n",
    "            rms_g = np.sqrt(prev_g2+eps)\n",
    "\n",
    "\n",
    "            #compute rms_delta\n",
    "            e_delta = gamma*prev_e_delta+(1-gamma)*prev_delta**2\n",
    "            prev_e_delta = e_delta\n",
    "            rms_delta = np.sqrt(e_delta+eps)\n",
    "\n",
    "            #get weights\n",
    "            prev_delta = -1*rms_delta/rms_g * gradient\n",
    "            theta = theta + prev_delta\n",
    "        \n",
    "            j += batch\n",
    "    return theta \n",
    "\n",
    "def adam(X, y, eta, n, batch, b_1, b_2, log=True):\n",
    "    f = X.shape[1]\n",
    "    theta = np.zeros(f)\n",
    "    eps = 0.0000001\n",
    "    m = 0\n",
    "    v = 0\n",
    "    \n",
    "    for i in range(n):\n",
    "        #shuffle data\n",
    "        ind = list(range(0, X.shape[0]))\n",
    "        np.random.shuffle(ind)\n",
    "        X = X[ind]\n",
    "        y = y[ind]\n",
    "\n",
    "        j=0\n",
    "        \n",
    "        while ((len(y)-j) > batch):\n",
    "            sample_X = X[j:j+batch]\n",
    "            sample_y = y[j:j+batch]\n",
    "\n",
    "            #get predictions and gradients\n",
    "            pred = logreg(sample_X, theta)\n",
    "            gradient = sample_X.T @ (pred-sample_y)\n",
    "\n",
    "            m = b_1*m+(1-b_1)*gradient\n",
    "            v = b_2*v+(1-b_2)*(gradient**2)\n",
    "\n",
    "\n",
    "            m_hat = m/(1-b_1**(n+1))\n",
    "            v_hat = v/(1-b_2**(n+1))\n",
    "            theta = theta - eta / (np.sqrt(v_hat) + eps) * m_hat\n",
    "            j += batch\n",
    "    return theta"
   ]
  },
  {
   "cell_type": "markdown",
   "metadata": {},
   "source": [
    "# Get data"
   ]
  },
  {
   "cell_type": "code",
   "execution_count": 1113,
   "metadata": {
    "scrolled": false
   },
   "outputs": [
    {
     "data": {
      "image/png": "[encoded data removed]",
      "text/plain": [
       "<Figure size 432x288 with 1 Axes>"
      ]
     },
     "metadata": {
      "needs_background": "light"
     },
     "output_type": "display_data"
    }
   ],
   "source": [
    "X, y = make_blobs(n_samples=100, centers=2, n_features=2)\n",
    "X = np.hstack((np.ones((m,1)),X))\n",
    "df = pd.DataFrame(dict(x=X[:,1], y=X[:,2], label=y))\n",
    "colors = {0:'red', 1:'blue', 2:'green'}\n",
    "fig, ax = plt.subplots()\n",
    "grouped = df.groupby('label')\n",
    "for key, group in grouped:\n",
    "    group.plot(ax=ax, kind='scatter', x='x', y='y', label=key, color=colors[key])\n",
    "xmin, xmax = ax.get_xlim()\n",
    "ymin, ymax = ax.get_ylim()\n",
    "plt.show()"
   ]
  },
  {
   "cell_type": "code",
   "execution_count": 1114,
   "metadata": {
    "scrolled": true
   },
   "outputs": [],
   "source": [
    "train_X, test_X, train_y, test_y = split(X, y, 0.7)"
   ]
  },
  {
   "cell_type": "code",
   "execution_count": 1115,
   "metadata": {},
   "outputs": [
    {
     "data": {
      "text/plain": [
       "array([ 0.68467826, -2.45286512, -1.92224029])"
      ]
     },
     "execution_count": 1115,
     "metadata": {},
     "output_type": "execute_result"
    }
   ],
   "source": [
    "eta = 0.2\n",
    "n = 500\n",
    "gamma = 0.01\n",
    "batch = 10\n",
    "gd_theta = gd(train_X, train_y, eta, n)\n",
    "# sgd_theta = sgd(train_X, train_y, eta, n, batch)\n",
    "# sgdm_theta = sgdm(train_X, train_y, eta, gamma, n, batch)\n",
    "# adagrad_theta = adagrad(train_X, train_y, eta, n, batch)\n",
    "rmsprop_theta = rmsprop(train_X, train_y, eta, gamma, n, batch)\n",
    "adadelta_theta = adadelta(train_X, train_y, gamma, n, batch)\n",
    "# adam_theta = adam(train_X, train_y, gamma, n, batch)\n",
    "# sgdm_theta\n",
    "adadelta_theta"
   ]
  },
  {
   "cell_type": "code",
   "execution_count": 1116,
   "metadata": {
    "scrolled": true
   },
   "outputs": [
    {
     "data": {
      "image/png": "[encoded data removed]",
      "text/plain": [
       "<Figure size 432x288 with 1 Axes>"
      ]
     },
     "metadata": {
      "needs_background": "light"
     },
     "output_type": "display_data"
    }
   ],
   "source": [
    "df = pd.DataFrame(dict(x=train_X[:,1], y=train_X[:,2], label=train_y))\n",
    "colors = {0:'red', 1:'blue'}\n",
    "fig, ax = plt.subplots()\n",
    "grouped = df.groupby('label')\n",
    "for key, group in grouped:\n",
    "    group.plot(ax=ax, kind='scatter', x='x', y='y', label=key, color=colors[key])\n",
    "\n",
    "x_p = np.linspace(min(X[:, 1]), max(X[:, 1]), 100)\n",
    "y_p = (-gd_theta[0] -gd_theta[1]* x_p)/gd_theta[2]\n",
    "# y_p2 = (-sgd_theta[0] -sgd_theta[1]* x_p)/sgd_theta[2]\n",
    "# y_p3 = (-sgdm_theta[0] -sgdm_theta[1]* x_p)/sgdm_theta[2]\n",
    "# y_p3 = (-adagrad_theta[0] -adagrad_theta[1]* x_p)/adagrad_theta[2]\n",
    "y_p3 = (-rmsprop_theta[0] -rmsprop_theta[1]* x_p)/rmsprop_theta[2]\n",
    "# y_p3 = (-adadelta_theta[0] -adadelta_theta[1]* x_p)/adadelta_theta[2]\n",
    "# ax.set_ylim((ymin, ymax))\n",
    "# ax.set_xlim((xmin, xmax))\n",
    "plt.plot(x_p, y_p)\n",
    "# plt.plot(x_p, y_p2)\n",
    "plt.plot(x_p, y_p3)\n",
    "plt.show()"
   ]
  },
  {
   "cell_type": "code",
   "execution_count": 309,
   "metadata": {},
   "outputs": [
    {
     "data": {
      "text/plain": [
       "100"
      ]
     },
     "execution_count": 309,
     "metadata": {},
     "output_type": "execute_result"
    }
   ],
   "source": [
    "len(y)"
   ]
  },
  {
   "cell_type": "code",
   "execution_count": 214,
   "metadata": {},
   "outputs": [],
   "source": [
    "\n",
    "def sigmoid(x):\n",
    "    return 1 / (1 + np.exp(-x))\n",
    "\n",
    "\n",
    "def gradient_descent(X, y, params, learning_rate, iterations):\n",
    "    m = len(y)\n",
    "    for i in range(iterations):\n",
    "        params = params - (learning_rate/m) * (X.T @ (sigmoid(X @ params) - y)) \n",
    "    return params\n",
    "\n",
    "\n",
    "def predict(X, params):\n",
    "    return np.round(sigmoid(X @ params))"
   ]
  },
  {
   "cell_type": "code",
   "execution_count": 217,
   "metadata": {},
   "outputs": [],
   "source": [
    "\n",
    "m = len(y)\n",
    "n = np.size(X,1)\n",
    "params = np.zeros((n,1))\n",
    "iterations = 1500\n",
    "learning_rate = 0.03\n",
    "params_optimal = gradient_descent(train_X, train_y, params, learning_rate, iterations)"
   ]
  },
  {
   "cell_type": "code",
   "execution_count": 218,
   "metadata": {},
   "outputs": [
    {
     "data": {
      "text/plain": [
       "array([[-0.53815316, -0.53815316,  0.53815316, -0.53815316, -0.53815316,\n",
       "         0.53815316,  0.53815316, -0.53815316, -0.53815316, -0.53815316,\n",
       "        -0.53815316,  0.53815316,  0.53815316, -0.53815316,  0.53815316,\n",
       "        -0.53815316, -0.53815316,  0.53815316, -0.53815316, -0.53815316,\n",
       "        -0.53815316,  0.53815316,  0.53815316,  0.53815316,  0.53815316,\n",
       "        -0.53815316,  0.53815316,  0.53815316, -0.53815316, -0.53815316,\n",
       "         0.53815316,  0.53815316, -0.53815316,  0.53815316,  0.53815316,\n",
       "        -0.53815316, -0.53815316,  0.53815316, -0.53815316, -0.53815316,\n",
       "        -0.53815316,  0.53815316,  0.53815316,  0.53815316,  0.53815316,\n",
       "         0.53815316,  0.53815316, -0.53815316, -0.53815316,  0.53815316,\n",
       "        -0.53815316,  0.53815316, -0.53815316, -0.53815316, -0.53815316,\n",
       "        -0.53815316, -0.53815316, -0.53815316, -0.53815316, -0.53815316,\n",
       "         0.53815316, -0.53815316, -0.53815316,  0.53815316,  0.53815316],\n",
       "       [-0.7377762 , -0.7377762 ,  0.7377762 , -0.7377762 , -0.7377762 ,\n",
       "         0.7377762 ,  0.7377762 , -0.7377762 , -0.7377762 , -0.7377762 ,\n",
       "        -0.7377762 ,  0.7377762 ,  0.7377762 , -0.7377762 ,  0.7377762 ,\n",
       "        -0.7377762 , -0.7377762 ,  0.7377762 , -0.7377762 , -0.7377762 ,\n",
       "        -0.7377762 ,  0.7377762 ,  0.7377762 ,  0.7377762 ,  0.7377762 ,\n",
       "        -0.7377762 ,  0.7377762 ,  0.7377762 , -0.7377762 , -0.7377762 ,\n",
       "         0.7377762 ,  0.7377762 , -0.7377762 ,  0.7377762 ,  0.7377762 ,\n",
       "        -0.7377762 , -0.7377762 ,  0.7377762 , -0.7377762 , -0.7377762 ,\n",
       "        -0.7377762 ,  0.7377762 ,  0.7377762 ,  0.7377762 ,  0.7377762 ,\n",
       "         0.7377762 ,  0.7377762 , -0.7377762 , -0.7377762 ,  0.7377762 ,\n",
       "        -0.7377762 ,  0.7377762 , -0.7377762 , -0.7377762 , -0.7377762 ,\n",
       "        -0.7377762 , -0.7377762 , -0.7377762 , -0.7377762 , -0.7377762 ,\n",
       "         0.7377762 , -0.7377762 , -0.7377762 ,  0.7377762 ,  0.7377762 ],\n",
       "       [ 1.42707365,  1.42707365, -1.42707365,  1.42707365,  1.42707365,\n",
       "        -1.42707365, -1.42707365,  1.42707365,  1.42707365,  1.42707365,\n",
       "         1.42707365, -1.42707365, -1.42707365,  1.42707365, -1.42707365,\n",
       "         1.42707365,  1.42707365, -1.42707365,  1.42707365,  1.42707365,\n",
       "         1.42707365, -1.42707365, -1.42707365, -1.42707365, -1.42707365,\n",
       "         1.42707365, -1.42707365, -1.42707365,  1.42707365,  1.42707365,\n",
       "        -1.42707365, -1.42707365,  1.42707365, -1.42707365, -1.42707365,\n",
       "         1.42707365,  1.42707365, -1.42707365,  1.42707365,  1.42707365,\n",
       "         1.42707365, -1.42707365, -1.42707365, -1.42707365, -1.42707365,\n",
       "        -1.42707365, -1.42707365,  1.42707365,  1.42707365, -1.42707365,\n",
       "         1.42707365, -1.42707365,  1.42707365,  1.42707365,  1.42707365,\n",
       "         1.42707365,  1.42707365,  1.42707365,  1.42707365,  1.42707365,\n",
       "        -1.42707365,  1.42707365,  1.42707365, -1.42707365, -1.42707365]])"
      ]
     },
     "execution_count": 218,
     "metadata": {},
     "output_type": "execute_result"
    }
   ],
   "source": [
    "params_optimal"
   ]
  }
 ],
 "metadata": {
  "kernelspec": {
   "display_name": "Python 3",
   "language": "python",
   "name": "python3"
  },
  "language_info": {
   "codemirror_mode": {
    "name": "ipython",
    "version": 3
   },
   "file_extension": ".py",
   "mimetype": "text/x-python",
   "name": "python",
   "nbconvert_exporter": "python",
   "pygments_lexer": "ipython3",
   "version": "3.7.1"
  }
 },
 "nbformat": 4,
 "nbformat_minor": 2
}
