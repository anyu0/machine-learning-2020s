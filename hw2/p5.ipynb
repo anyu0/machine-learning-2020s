{
 "cells": [
  {
   "cell_type": "markdown",
   "metadata": {},
   "source": [
    " (Full) Gradient Descent (GD)\n",
    "• Stochastic Gradient Descent (SGD)\n",
    "• SGD with Momentum (SGDM)\n",
    "• Adaptive Gradient (AdaGrad)\n",
    "• RMSProp\n",
    "• AdaDelta\n",
    "• Adaptive Momentum (ADAM)\n",
    "\n",
    "Describe each of the techniques in detail. Compare and contrast the relative advantages and\n",
    "disadvantages of each of the techniques. Are there specific types of datasets where one technique is expected to perform better than the other? if so, why? Provide detailed justifications\n",
    "for each.\n",
    "\n",
    "Datasets: linearly separable and non-separable\n",
    "https://machinelearningmastery.com/generate-test-datasets-python-scikit-learn/\n",
    "https://scikit-learn.org/stable/modules/generated/sklearn.datasets.make_blobs.html\n",
    "https://stackoverflow.com/questions/47961536/how-to-generate-linear-separable-dataset-by-using-sklearn-datasets-make-classifi\n",
    "\n",
    "1) write logreg\n",
    "2) write cost functions: 1) linear, 2) log\n",
    "https://www.internalpointers.com/post/cost-function-logistic-regression\n",
    "3) finish methods"
   ]
  },
  {
   "cell_type": "code",
   "execution_count": 5,
   "metadata": {},
   "outputs": [],
   "source": [
    "import numpy as np\n",
    "import pandas as pd\n",
    "from sklearn.datasets import make_blobs\n",
    "from matplotlib import pyplot as plt"
   ]
  },
  {
   "cell_type": "markdown",
   "metadata": {},
   "source": [
    "# Get data"
   ]
  },
  {
   "cell_type": "code",
   "execution_count": 12,
   "metadata": {},
   "outputs": [
    {
     "data": {
      "image/png": "[encoded data removed]",
      "text/plain": [
       "<Figure size 432x288 with 1 Axes>"
      ]
     },
     "metadata": {
      "needs_background": "light"
     },
     "output_type": "display_data"
    }
   ],
   "source": [
    "X, y = make_blobs(n_samples=100, centers=2, n_features=2)\n",
    "df = pd.DataFrame(dict(x=X[:,0], y=X[:,1], label=y))\n",
    "colors = {0:'red', 1:'blue', 2:'green'}\n",
    "fig, ax = plt.subplots()\n",
    "grouped = df.groupby('label')\n",
    "for key, group in grouped:\n",
    "    group.plot(ax=ax, kind='scatter', x='x', y='y', label=key, color=colors[key])\n",
    "plt.show()"
   ]
  },
  {
   "cell_type": "code",
   "execution_count": null,
   "metadata": {},
   "outputs": [],
   "source": [
    "def log_cost():\n",
    "    \n",
    "def lin_cost():\n",
    "    "
   ]
  },
  {
   "cell_type": "markdown",
   "metadata": {},
   "source": []
  },
  {
   "cell_type": "code",
   "execution_count": 1,
   "metadata": {},
   "outputs": [
    {
     "ename": "IndentationError",
     "evalue": "expected an indented block (<ipython-input-1-c43f1628f99a>, line 7)",
     "output_type": "error",
     "traceback": [
      "\u001b[1;36m  File \u001b[1;32m\"<ipython-input-1-c43f1628f99a>\"\u001b[1;36m, line \u001b[1;32m7\u001b[0m\n\u001b[1;33m    def sgdm():\u001b[0m\n\u001b[1;37m      ^\u001b[0m\n\u001b[1;31mIndentationError\u001b[0m\u001b[1;31m:\u001b[0m expected an indented block\n"
     ]
    }
   ],
   "source": [
    "def gd(X, eta, n, log=True):\n",
    "    for i in range(n):\n",
    "        theta = theta - eta * np.gradient(X)\n",
    "    return theta\n",
    "\n",
    "def sgd(X, eta, n, log=True):\n",
    "\n",
    "def sgdm(X, eta, gamma, n, log=True):\n",
    "\n",
    "def adagrad(X, eta, gamma, n, log=True):\n",
    "\n",
    "def rmsprop(X, eta, gamma, n, log=True):\n",
    "\n",
    "def adadelta(X, gamma, n, log=True):\n",
    "\n",
    "def adam(X, b_1, b_2, eta, n, log=True):"
   ]
  },
  {
   "cell_type": "code",
   "execution_count": null,
   "metadata": {},
   "outputs": [],
   "source": []
  }
 ],
 "metadata": {
  "kernelspec": {
   "display_name": "Python 3",
   "language": "python",
   "name": "python3"
  },
  "language_info": {
   "codemirror_mode": {
    "name": "ipython",
    "version": 3
   },
   "file_extension": ".py",
   "mimetype": "text/x-python",
   "name": "python",
   "nbconvert_exporter": "python",
   "pygments_lexer": "ipython3",
   "version": "3.7.1"
  }
 },
 "nbformat": 4,
 "nbformat_minor": 2
}
