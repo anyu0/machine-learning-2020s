{
 "cells": [
  {
   "cell_type": "code",
   "execution_count": 1,
   "metadata": {},
   "outputs": [],
   "source": [
    "import numpy as np\n",
    "import scipy.io as sio\n",
    "from PIL import Image\n",
    "from numpy import linalg as LA\n",
    "import matplotlib.pyplot as plt\n",
    "\n",
    "# load data\n",
    "\n",
    "mat_contents = sio.loadmat(\"mnist_digits.mat\") # mat_contents['X'].shape = (10000, 784)\n",
    "dataset = np.concatenate((mat_contents['X'], mat_contents['Y']), axis=1) # X, Y = dataset[:,:-1], dataset[:,-1] \n",
    "\n",
    "# split data\n",
    "\n",
    "def split(dataset, ratio):\n",
    "    msk = np.random.rand(len(dataset)) < ratio\n",
    "    return dataset[msk], dataset[~msk]\n",
    "\n",
    "train_data, test_data = split(dataset, 0.7)\n",
    "\n",
    "# build percepton\n",
    "\n",
    "def percepton_train(train_data, max_iter, digit, mode=3):\n",
    "        \n",
    "    w = np.zeros((len(train_data[0]), 1)) # initialize weights and bias (index = 0)        \n",
    "\n",
    "    if mode == 0: # Perceptron V0\n",
    "        \n",
    "        for i in range(max_iter):\n",
    "\n",
    "            datapoint = train_data[i%(len(train_data)+1)]\n",
    "            y = 1 if (datapoint[-1] == digit) else -1\n",
    "            x = datapoint[:-1]\n",
    "\n",
    "            if y*x.dot(w[1:])[0] + w[0][0] <= 0:\n",
    "\n",
    "                w[1:] = w[1:] + y*x.reshape(784,1)\n",
    "                w[0] = w[0] + y\n",
    "\n",
    "        return w\n",
    "\n",
    "    if mode == 1: # Perceptron V1\n",
    "        \n",
    "        for i in range(max_iter):\n",
    "        \n",
    "            datapoint_min = train_data[0]\n",
    "            y_min = 1 if (datapoint_min[-1] == digit) else -1\n",
    "            x_min = datapoint_min[:-1]\n",
    "            a_min = y_min*x_min.dot(w[1:])[0] + w[0][0]\n",
    "\n",
    "            for datapoint in train_data:\n",
    "\n",
    "                y = 1 if (datapoint[-1] == digit) else -1\n",
    "                x = datapoint[:-1]\n",
    "                a = y*x.dot(w[1:])[0] + w[0][0]\n",
    "\n",
    "                if a < a_min:\n",
    "                    datapoint_min = datapoint\n",
    "                    y_min = y\n",
    "                    x_min = x\n",
    "                    a_min = a\n",
    "\n",
    "            if a_min <= 0:\n",
    "                w[1:] = w[1:] + y_min * x_min.reshape(784,1)\n",
    "                w[0] = w[0] + y_min\n",
    "\n",
    "        return w\n",
    "\n",
    "        \n",
    "    else:\n",
    "        \n",
    "        for i in range(max_iter):\n",
    "            \n",
    "            for datapoint in train_data:\n",
    "                \n",
    "                y = 1 if (datapoint[-1] == digit) else -1\n",
    "                x = datapoint[:-1]\n",
    "                \n",
    "                if y*x.dot(w[1:])[0] + w[0][0] <= 0:\n",
    "                    \n",
    "                    w[1:] = w[1:] + y*x.reshape(784,1)\n",
    "                    w[0] = w[0] + y\n",
    "        \n",
    "        return w\n",
    "\n",
    "\n",
    "\n",
    "def percepton_test(test_datapoint, w):\n",
    "    \n",
    "    return np.sign(test_datapoint[:-1].dot(w[1:])[0] + w[0][0])\n",
    "    \n",
    "    \n",
    "\n",
    "def percepton_accuracy(train_data, test_data, max_iter, digit, mode=3):\n",
    "    \n",
    "    count = 0\n",
    "    total = len(test_data)\n",
    "    w = percepton_train(train_data, max_iter, digit, mode)\n",
    "    \n",
    "    for datapoint in test_data:\n",
    "        \n",
    "        if (percepton_test(datapoint, w) == 1 and datapoint[-1]==digit) \\\n",
    "        or (percepton_test(datapoint, w) == -1 and datapoint[-1]!=digit):\n",
    "            count += 1\n",
    "            \n",
    "    return count/total"
   ]
  },
  {
   "cell_type": "code",
   "execution_count": 3,
   "metadata": {},
   "outputs": [
    {
     "name": "stdout",
     "output_type": "stream",
     "text": [
      "For digit 0, the accuracy of V3 is 0.9785306943978531.\n",
      "For digit 1, the accuracy of V3 is 0.9818852733981885.\n",
      "For digit 2, the accuracy of V3 is 0.9577323045957732.\n",
      "For digit 3, the accuracy of V3 is 0.9543777255954378.\n",
      "For digit 4, the accuracy of V3 is 0.9698087889969809.\n",
      "For digit 5, the accuracy of V3 is 0.9111036564911104.\n",
      "For digit 6, the accuracy of V3 is 0.9755115732975511.\n",
      "For digit 7, the accuracy of V3 is 0.9795370680979537.\n",
      "For digit 8, the accuracy of V3 is 0.9308956725930896.\n",
      "For digit 9, the accuracy of V3 is 0.9365984568936598.\n"
     ]
    }
   ],
   "source": [
    "for num in range(10):\n",
    "    print('For digit {}, the accuracy of V3 is {}.'\\\n",
    "          .format(num, percepton_accuracy(train_data, test_data, 100, num)))"
   ]
  },
  {
   "cell_type": "code",
   "execution_count": 5,
   "metadata": {},
   "outputs": [
    {
     "name": "stdout",
     "output_type": "stream",
     "text": [
      "For digit 0, the accuracy of V0 is 0.9543777255954378.\n",
      "For digit 1, the accuracy of V0 is 0.9319020462931902.\n",
      "For digit 2, the accuracy of V0 is 0.9124454880912446.\n",
      "For digit 3, the accuracy of V0 is 0.9124454880912446.\n",
      "For digit 4, the accuracy of V0 is 0.9080845353908085.\n",
      "For digit 5, the accuracy of V0 is 0.9164709828916471.\n",
      "For digit 6, the accuracy of V0 is 0.9469976517946997.\n",
      "For digit 7, the accuracy of V0 is 0.955719557195572.\n",
      "For digit 8, the accuracy of V0 is 0.7692049647769205.\n",
      "For digit 9, the accuracy of V0 is 0.8926534719892654.\n"
     ]
    }
   ],
   "source": [
    "for num in range(10):\n",
    "    print('For digit {}, the accuracy of V0 is {}.'\\\n",
    "          .format(num, percepton_accuracy(train_data, test_data, 100, num, mode=0)))"
   ]
  },
  {
   "cell_type": "code",
   "execution_count": 7,
   "metadata": {},
   "outputs": [
    {
     "name": "stdout",
     "output_type": "stream",
     "text": [
      "For digit 0, the accuracy of V1 is 0.9443139885944314.\n",
      "For digit 1, the accuracy of V1 is 0.8963435088896343.\n",
      "For digit 2, the accuracy of V1 is 0.2408587722240859.\n",
      "For digit 3, the accuracy of V1 is 0.1294867494129487.\n",
      "For digit 4, the accuracy of V1 is 0.39885944313988597.\n",
      "For digit 5, the accuracy of V1 is 0.7544448171754444.\n",
      "For digit 6, the accuracy of V1 is 0.9094263669909426.\n",
      "For digit 7, the accuracy of V1 is 0.915129151291513.\n",
      "For digit 8, the accuracy of V1 is 0.13217041261321705.\n",
      "For digit 9, the accuracy of V1 is 0.8453539080845354.\n"
     ]
    }
   ],
   "source": [
    "for num in range(10):\n",
    "    print('For digit {}, the accuracy of V1 is {}.'\\\n",
    "          .format(num, percepton_accuracy(train_data, test_data, 100, num, mode = 1)))"
   ]
  },
  {
   "cell_type": "code",
   "execution_count": null,
   "metadata": {},
   "outputs": [],
   "source": []
  }
 ],
 "metadata": {
  "kernelspec": {
   "display_name": "Python 3",
   "language": "python",
   "name": "python3"
  },
  "language_info": {
   "codemirror_mode": {
    "name": "ipython",
    "version": 3
   },
   "file_extension": ".py",
   "mimetype": "text/x-python",
   "name": "python",
   "nbconvert_exporter": "python",
   "pygments_lexer": "ipython3",
   "version": "3.7.6"
  }
 },
 "nbformat": 4,
 "nbformat_minor": 2
}
