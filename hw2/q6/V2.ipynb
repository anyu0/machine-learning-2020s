{
 "cells": [
  {
   "cell_type": "code",
   "execution_count": 3,
   "metadata": {},
   "outputs": [
    {
     "name": "stdout",
     "output_type": "stream",
     "text": [
      "For digit 0, the accuracy of V2 is 0.9276750330250991.\n",
      "For digit 1, the accuracy of V2 is 0.9233817701453104.\n",
      "For digit 2, the accuracy of V2 is 0.9190885072655218.\n",
      "For digit 3, the accuracy of V2 is 0.9124834874504624.\n",
      "For digit 4, the accuracy of V2 is 0.8665785997357992.\n",
      "For digit 5, the accuracy of V2 is 0.9105019815059445.\n",
      "For digit 6, the accuracy of V2 is 0.8956406869220608.\n",
      "For digit 7, the accuracy of V2 is 0.8365257595772787.\n",
      "For digit 8, the accuracy of V2 is 0.8603038309114928.\n",
      "For digit 9, the accuracy of V2 is 0.892668428005284.\n"
     ]
    }
   ],
   "source": [
    "import numpy as np\n",
    "import scipy.io as sio\n",
    "from PIL import Image\n",
    "from numpy import linalg as LA\n",
    "import matplotlib.pyplot as plt\n",
    "\n",
    "# load data\n",
    "\n",
    "mat_contents = sio.loadmat(\"mnist_digits.mat\") # mat_contents['X'].shape = (10000, 784)\n",
    "dataset = np.concatenate((mat_contents['X'], mat_contents['Y']), axis=1) # X, Y = dataset[:,:-1], dataset[:,-1] \n",
    "\n",
    "# split data\n",
    "\n",
    "def split(dataset, ratio):\n",
    "    msk = np.random.rand(len(dataset)) < ratio\n",
    "    return dataset[msk], dataset[~msk]\n",
    "\n",
    "train_data, test_data = split(dataset, 0.7)\n",
    "\n",
    "# build percepton\n",
    "\n",
    "def percepton_train2(train_data, max_iter, digit):\n",
    "        \n",
    "    w = np.zeros((len(train_data[0]), 1)) # initialize weights and bias (index = 0)        \n",
    "    w_list = [w]\n",
    "    c = np.zeros(len(train_data))\n",
    "    k = 1\n",
    "\n",
    "    for i in range(max_iter):\n",
    "\n",
    "        datapoint = train_data[i%(len(train_data)+1)]\n",
    "        y = 1 if (datapoint[-1] == digit) else -1\n",
    "        x = datapoint[:-1]\n",
    "\n",
    "        if y*x.dot(w[1:])[0] + w[0][0] <= 0:\n",
    "\n",
    "            w[1:] = w[1:] + y*x.reshape(784,1)\n",
    "            w[0] = w[0] + y\n",
    "            c[k+1] = 1\n",
    "            k += 1\n",
    "            w_list.append(w)\n",
    "\n",
    "        else:\n",
    "\n",
    "            c[k] += 1\n",
    "\n",
    "    return w_list, c, k\n",
    "        \n",
    "    \n",
    "def percepton_test2(test_datapoint, w_list, c, k):\n",
    "    \n",
    "    res = 0\n",
    "    \n",
    "    for i in range(k):\n",
    "        w = w_list[i]\n",
    "        res += c[i] * np.sign(test_datapoint[:-1].dot(w[1:])[0] + w[0][0])\n",
    "    \n",
    "    return np.sign(res)\n",
    "\n",
    "def percepton_accuracy2(train_data, test_data, max_iter, digit):\n",
    "    \n",
    "    count = 0\n",
    "    total = len(test_data)\n",
    "    w_list, c, k = percepton_train2(train_data, max_iter, digit)\n",
    "    \n",
    "    for datapoint in test_data:\n",
    "        \n",
    "        if (percepton_test2(datapoint, w_list, c, k) == 1 and datapoint[-1]==digit) \\\n",
    "        or (percepton_test2(datapoint, w_list, c, k) == -1 and datapoint[-1]!=digit):\n",
    "            count += 1\n",
    "            \n",
    "    return count/total\n",
    "\n",
    "for num in range(10):\n",
    "    print('For digit {}, the accuracy of V2 is {}.'\\\n",
    "          .format(num, percepton_accuracy2(train_data, test_data, 100, num)))"
   ]
  },
  {
   "cell_type": "code",
   "execution_count": 6,
   "metadata": {},
   "outputs": [
    {
     "data": {
      "image/png": "[encoded data removed]",
      "text/plain": [
       "<Figure size 432x288 with 1 Axes>"
      ]
     },
     "metadata": {},
     "output_type": "display_data"
    }
   ],
   "source": [
    "# Plot accuracy against ratio, \n",
    "# model: v2\n",
    "# avarage of N runs\n",
    "\n",
    "N = 10\n",
    "ITER = 100\n",
    "x_data = np.arange(0.6, 1.0, 0.05)\n",
    "y_data = []\n",
    "\n",
    "for n in range(N):\n",
    "    y_ = []\n",
    "    for ratio in x_data:\n",
    "        train_data, test_data = split(dataset, ratio)\n",
    "        a = []\n",
    "        for digit in range(10):\n",
    "            a.append(percepton_accuracy2(train_data, test_data, ITER, digit))\n",
    "        y_.append(np.mean(a))\n",
    "\n",
    "    y_data.append(y_)\n",
    "    \n",
    "y_data = np.mean(y_data, axis=0)\n",
    "\n",
    "plt.plot(x_data, y_data)\n",
    "plt.xlabel('Training Data Ratio')\n",
    "plt.ylabel('Average Accuracy across Digits')\n",
    "plt.title('Average Performance under Different Splits for V2')\n",
    "plt.savefig('splits_v2_smoothed.png')"
   ]
  },
  {
   "cell_type": "code",
   "execution_count": null,
   "metadata": {},
   "outputs": [],
   "source": []
  },
  {
   "cell_type": "code",
   "execution_count": null,
   "metadata": {},
   "outputs": [],
   "source": []
  }
 ],
 "metadata": {
  "kernelspec": {
   "display_name": "Python 3",
   "language": "python",
   "name": "python3"
  },
  "language_info": {
   "codemirror_mode": {
    "name": "ipython",
    "version": 3
   },
   "file_extension": ".py",
   "mimetype": "text/x-python",
   "name": "python",
   "nbconvert_exporter": "python",
   "pygments_lexer": "ipython3",
   "version": "3.7.6"
  }
 },
 "nbformat": 4,
 "nbformat_minor": 2
}
