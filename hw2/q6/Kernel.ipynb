{
 "cells": [
  {
   "cell_type": "code",
   "execution_count": 47,
   "metadata": {},
   "outputs": [],
   "source": [
    "import numpy as np\n",
    "import scipy.io as sio\n",
    "from PIL import Image\n",
    "from numpy import linalg as LA\n",
    "import matplotlib.pyplot as plt\n",
    "\n",
    "# load data\n",
    "\n",
    "mat_contents = sio.loadmat(\"mnist_digits.mat\") # mat_contents['X'].shape = (10000, 784)\n",
    "dataset = np.concatenate((mat_contents['X'], mat_contents['Y']), axis=1) # X, Y = dataset[:,:-1], dataset[:,-1] \n",
    "\n",
    "# split data\n",
    "\n",
    "def split(dataset, ratio):\n",
    "    msk = np.random.rand(len(dataset)) < ratio\n",
    "    return dataset[msk], dataset[~msk]\n",
    "\n",
    "train_data, test_data = split(dataset, 0.7)\n",
    "\n",
    "# build percepton\n",
    "\n",
    "def kernel(x, y, p=1):\n",
    "    return (1 + np.dot(x, y)) ** p\n",
    "\n",
    "def percepton_ker(train_data, test_datapoint, max_iter, digit, p=1):\n",
    "        \n",
    "    n_samples, n_features = train_data.shape\n",
    "    if len(train_data)==0: return [[]]\n",
    "\n",
    "    alpha = np.zeros(n_samples)\n",
    "    K = np.zeros((n_samples, n_samples))\n",
    "    y = list(map(lambda x: 1 if x else -1, train_data[:,-1] == digit))\n",
    "    \n",
    "    # Compute Kernel Matrix\n",
    "    for i in range(n_samples):\n",
    "        for j in range(n_samples):\n",
    "            K[i,j] = kernel(train_data[i], train_data[j], p)\n",
    "            \n",
    "    for t in range(max_iter):\n",
    "        for i in range(n_samples):\n",
    "            if np.sign( np.sum(K[:,i]*alpha*y) ) * y[i] <= 0:\n",
    "                alpha[i] += 1\n",
    "\n",
    "    # Compute Test Kernel\n",
    "    K_test = np.zeros((1, n_samples))\n",
    "    for i in range(n_samples):\n",
    "        K_test[:,i] = kernel(train_data[i], test_datapoint)\n",
    "        \n",
    "    return np.sign( np.sum(K_test*alpha*y) )\n",
    "        \n",
    "\n",
    "def percepton_accuracy_ker(train_data, test_data, max_iter, digit, p):\n",
    "    \n",
    "    count = 0\n",
    "    total = len(test_data)\n",
    "    if total==0:\n",
    "        return 0\n",
    "        \n",
    "    for datapoint in test_data:\n",
    "        \n",
    "        res = percepton_ker(train_data, datapoint, max_iter, digit, p)\n",
    "        if (res == 1 and datapoint[-1] == digit) \\\n",
    "        or (res == -1 and datapoint[-1] != digit):\n",
    "            count += 1\n",
    "            \n",
    "    return count/total"
   ]
  },
  {
   "cell_type": "code",
   "execution_count": null,
   "metadata": {},
   "outputs": [],
   "source": [
    "percepton_ker(train_data, test_data[0], 1, 0, 1)"
   ]
  },
  {
   "cell_type": "code",
   "execution_count": null,
   "metadata": {},
   "outputs": [],
   "source": [
    "max_iter = 1\n",
    "digit = 0\n",
    "p = 5\n",
    "percepton_accuracy_ker(train_data, test_data, max_iter, digit, p)"
   ]
  },
  {
   "cell_type": "code",
   "execution_count": null,
   "metadata": {},
   "outputs": [],
   "source": []
  }
 ],
 "metadata": {
  "kernelspec": {
   "display_name": "Python 3",
   "language": "python",
   "name": "python3"
  },
  "language_info": {
   "codemirror_mode": {
    "name": "ipython",
    "version": 3
   },
   "file_extension": ".py",
   "mimetype": "text/x-python",
   "name": "python",
   "nbconvert_exporter": "python",
   "pygments_lexer": "ipython3",
   "version": "3.7.6"
  }
 },
 "nbformat": 4,
 "nbformat_minor": 2
}
