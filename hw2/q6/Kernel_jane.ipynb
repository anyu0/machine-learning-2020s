{
 "cells": [
  {
   "cell_type": "code",
   "execution_count": 16,
   "metadata": {},
   "outputs": [],
   "source": [
    "import numpy as np\n",
    "import scipy.io as sio\n",
    "from PIL import Image\n",
    "from numpy import linalg as LA\n",
    "import matplotlib.pyplot as plt\n",
    "\n",
    "# load data\n",
    "\n",
    "mat_contents = sio.loadmat(\"mnist_digits.mat\") # mat_contents['X'].shape = (10000, 784)\n",
    "dataset = np.concatenate((mat_contents['X'], mat_contents['Y']), axis=1) # X, Y = dataset[:,:-1], dataset[:,-1] \n",
    "\n",
    "# split data\n",
    "\n",
    "def split(dataset, ratio):\n",
    "    msk = np.random.rand(len(dataset)) < ratio\n",
    "    return dataset[msk], dataset[~msk]\n",
    "\n",
    "# train_data, test_data = split(dataset, 0.7)\n",
    "\n",
    "# build percepton\n",
    "\n",
    "def kernel(x, y, p=1):\n",
    "    return (1 + np.dot(x, y)) ** p\n",
    "\n",
    "def build_kernel(train_data):\n",
    "    n_samples, n_features = train_data.shape\n",
    "    if len(train_data)==0: return [[]]\n",
    "\n",
    "    alpha = np.zeros(n_samples)\n",
    "    K = np.zeros((n_samples, n_samples))\n",
    "    y = list(map(lambda x: 1 if x else -1, train_data[:,-1] == digit))\n",
    "    \n",
    "    # Compute Kernel Matrix\n",
    "    for i in range(n_samples):\n",
    "        for j in range(n_samples):\n",
    "            K[i,j] = kernel(train_data[i], train_data[j], p)\n",
    "            \n",
    "    return K\n",
    "def percepton_ker(K, test_datapoint, max_iter, digit, p=1):\n",
    "        \n",
    "    n_samples, n_features = train_data.shape\n",
    "#     if len(train_data)==0: return [[]]\n",
    "\n",
    "    alpha = np.zeros(n_samples)\n",
    "#     K = np.zeros((n_samples, n_samples))\n",
    "    y = list(map(lambda x: 1 if x else -1, train_data[:,-1] == digit))\n",
    "    \n",
    "#     # Compute Kernel Matrix\n",
    "#     for i in range(n_samples):\n",
    "#         for j in range(n_samples):\n",
    "#             K[i,j] = kernel(train_data[i], train_data[j], p)\n",
    "            \n",
    "    for t in range(max_iter):\n",
    "        for i in range(n_samples):\n",
    "            if np.sign( np.sum(K[:,i]*alpha*y) ) * y[i] <= 0:\n",
    "                alpha[i] += 1\n",
    "\n",
    "    # Compute Test Kernel\n",
    "    K_test = np.zeros((1, n_samples))\n",
    "    for i in range(n_samples):\n",
    "        K_test[:,i] = kernel(train_data[i], test_datapoint)\n",
    "        \n",
    "    return np.sign( np.sum(K_test*alpha*y) )\n",
    "        \n",
    "\n",
    "def percepton_accuracy_ker(train_data, test_data, max_iter, digit, p):\n",
    "    \n",
    "    count = 0\n",
    "    total = len(test_data)\n",
    "    if total==0:\n",
    "        return 0\n",
    "        \n",
    "    for datapoint in test_data:\n",
    "        \n",
    "        res = percepton_ker(train_data, datapoint, max_iter, digit, p)\n",
    "        print(\"Result: \"+ str(res))\n",
    "        if (res == 1 and datapoint[-1] == digit) \\\n",
    "        or (res == -1 and datapoint[-1] != digit):\n",
    "            count += 1\n",
    "            \n",
    "    return count/total"
   ]
  },
  {
   "cell_type": "code",
   "execution_count": 37,
   "metadata": {},
   "outputs": [
    {
     "name": "stdout",
     "output_type": "stream",
     "text": [
      "Iteration: 0\n"
     ]
    },
    {
     "data": {
      "text/plain": [
       "-1.0"
      ]
     },
     "execution_count": 37,
     "metadata": {},
     "output_type": "execute_result"
    }
   ],
   "source": [
    "percepton_ker(ker, test_data[com], 1, 0, 1)"
   ]
  },
  {
   "cell_type": "code",
   "execution_count": 17,
   "metadata": {},
   "outputs": [
    {
     "name": "stdout",
     "output_type": "stream",
     "text": [
      "Iteration: 0\n",
      "Result: -1.0\n",
      "Iteration: 0\n",
      "Result: -1.0\n",
      "Iteration: 0\n",
      "Result: -1.0\n"
     ]
    },
    {
     "data": {
      "text/plain": [
       "1.0"
      ]
     },
     "execution_count": 17,
     "metadata": {},
     "output_type": "execute_result"
    }
   ],
   "source": [
    "max_iter = 1\n",
    "digit = 0\n",
    "p = 5\n",
    "ker = build_kernel(train_data)\n",
    "percepton_accuracy_ker(ker, test_data[:3], max_iter, digit, p)"
   ]
  },
  {
   "cell_type": "code",
   "execution_count": 32,
   "metadata": {
    "scrolled": false
   },
   "outputs": [
    {
     "name": "stdout",
     "output_type": "stream",
     "text": [
      "Iteration: 0\n",
      "Result: -1.0\n"
     ]
    },
    {
     "data": {
      "text/plain": [
       "0.0"
      ]
     },
     "execution_count": 32,
     "metadata": {},
     "output_type": "execute_result"
    }
   ],
   "source": [
    "percepton_accuracy_ker(ker, test_data[96:97], max_iter, digit, p)"
   ]
  },
  {
   "cell_type": "code",
   "execution_count": 33,
   "metadata": {},
   "outputs": [
    {
     "data": {
      "text/plain": [
       "array([[  0,   0,   0,   0,   0,   0,   0,   0,   0,   0,   0,   0,   0,\n",
       "          0,   0,   0,   0,   0,   0,   0,   0,   0,   0,   0,   0,   0,\n",
       "          0,   0,   0,   0,   0,   0,   0,   0,   0,   0,   0,   0,   0,\n",
       "          0,   0,   0,   0,   0,   0,   0,   0,   0,   0,   0,   0,   0,\n",
       "          0,   0,   0,   0,   0,   0,   0,   0,   0,   0,   0,   0,   0,\n",
       "          0,   0,   0,   0,   0,   0,   0,   0,   0,   0,   0,   0,   0,\n",
       "          0,   0,   0,   0,   0,   0,   0,   0,   0,   0,   0,   0,   0,\n",
       "          0,   0,   0,   0,   0,   0,   0,   0,   0,   0,   0,   0,   0,\n",
       "          0,   0,   0,   0,   0,   0,   0,   0,   0,   0,   0,   0,   0,\n",
       "          0,   0,   0,   0,   0,   0,   0,  72, 152, 193, 152,   0,   0,\n",
       "          0,   0,   0,   0,   0,   0,   0,   0,   0,   0,   0,   0,   0,\n",
       "          0,   0,   0,   0,   0,   0,   0, 123, 203, 253, 252, 192, 192,\n",
       "        102, 183, 123, 122,  41,   0,   0,   0,   0,   0,   0,   0,   0,\n",
       "          0,   0,   0,   0,   0,   0,   0,  11, 173, 254, 233,  82,  21,\n",
       "        254, 253, 254, 253, 254, 253, 173,  10,   0,   0,   0,   0,   0,\n",
       "          0,   0,   0,   0,   0,   0,   0,   0,   0, 173, 252, 172,  30,\n",
       "        123, 223, 253, 252, 253, 252, 253, 252, 253, 131,   0,   0,   0,\n",
       "          0,   0,   0,   0,   0,   0,   0,   0,   0,  11, 173, 254, 192,\n",
       "         11,  92, 254, 253, 123,   0,   0,  41, 173, 253, 254, 213,   0,\n",
       "          0,   0,   0,   0,   0,   0,   0,   0,   0,   0,   0, 173, 252,\n",
       "        233,  50,  92, 252, 233,  70,   0,   0,   0,   0,  31, 232, 253,\n",
       "        252,  82,   0,   0,   0,   0,   0,   0,   0,   0,   0,   0,   0,\n",
       "        254, 253,  82,  62, 254, 192,   0,   0,   0,   0,   0,   0,   0,\n",
       "        203, 254, 253, 163,   0,   0,   0,   0,   0,   0,   0,   0,   0,\n",
       "          0,  82, 253, 212,   0, 102, 233,  50,   0,   0,   0,   0,   0,\n",
       "          0,   0, 203, 253, 252, 203,   0,   0,   0,   0,   0,   0,   0,\n",
       "          0,   0,  51, 253, 254,  91,   0,  41, 203,   0,   0,   0,   0,\n",
       "          0,   0,   0,   0,  82, 254, 253, 214,  10,   0,   0,   0,   0,\n",
       "          0,   0,   0,   0,  51, 252, 253,  50,   0,   0,  40,   0,   0,\n",
       "          0,   0,   0,   0,   0,   0,   0, 213, 252, 253,  50,   0,   0,\n",
       "          0,   0,   0,   0,   0,   0, 152, 253, 254,  50,   0,   0,   0,\n",
       "          0,   0,   0,   0,   0,   0,   0,   0,   0, 173, 253, 254,  50,\n",
       "          0,   0,   0,   0,   0,   0,   0,   0, 152, 252, 253,  91,   0,\n",
       "          0,   0,   0,   0,   0,   0,   0,   0,   0,   0,   0, 253, 252,\n",
       "        253, 131,   0,   0,   0,   0,   0,   0,   0,   0, 152, 253, 254,\n",
       "        213,  21,   0,   0,   0,   0,   0,   0,   0,   0,   0,   0,   0,\n",
       "        152, 253, 254, 151,   0,   0,   0,   0,   0,   0,   0,   0,  71,\n",
       "        252, 253, 252, 142,   0,   0,   0,   0,   0,   0,   0,   0,   0,\n",
       "          0,   0, 152, 252, 253, 151,   0,   0,   0,   0,   0,   0,   0,\n",
       "          0,   0, 123, 254, 253, 254, 213,  41,   0,   0,   0,   0,   0,\n",
       "          0,   0,   0,   0, 152, 253, 244,  81,   0,   0,   0,   0,   0,\n",
       "          0,   0,   0,   0,   0, 172, 252, 253, 252, 243, 122,   0,   0,\n",
       "          0,   0,   0,   0,   0,  82, 233, 252, 203,   0,   0,   0,   0,\n",
       "          0,   0,   0,   0,   0,   0,   0,   0, 123, 254, 253, 254, 253,\n",
       "        234, 152,  92,  51,  52,  51, 173, 253, 255, 253,  82,   0,   0,\n",
       "          0,   0,   0,   0,   0,   0,   0,   0,   0,   0,   0, 131, 252,\n",
       "        253, 252, 253, 252, 253, 252, 253, 252, 253, 252, 253, 171,   0,\n",
       "          0,   0,   0,   0,   0,   0,   0,   0,   0,   0,   0,   0,   0,\n",
       "          0,  82, 173, 253, 254, 253, 254, 253, 254, 253, 254, 253, 142,\n",
       "         20,   0,   0,   0,   0,   0,   0,   0,   0,   0,   0,   0,   0,\n",
       "          0,   0,   0,   0,  10,  50, 112, 151, 151, 192, 192, 151, 151,\n",
       "         70,   0,   0,   0,   0,   0,   0,   0,   0,   0,   0,   0,   0,\n",
       "          0,   0,   0,   0,   0,   0,   0,   0,   0,   0,   0,   0,   0,\n",
       "          0,   0,   0,   0,   0,   0,   0,   0,   0,   0,   0,   0,   0,\n",
       "          0,   0,   0,   0,   0,   0,   0,   0,   0,   0,   0,   0,   0,\n",
       "          0,   0,   0,   0,   0,   0,   0,   0,   0,   0,   0,   0,   0,\n",
       "          0,   0,   0,   0,   0,   0,   0,   0,   0,   0,   0,   0,   0,\n",
       "          0,   0,   0,   0,   0,   0,   0,   0,   0,   0,   0,   0,   0,\n",
       "          0,   0,   0,   0,   0,   0,   0,   0,   0,   0,   0,   0,   0,\n",
       "          0,   0,   0,   0,   0,   0,   0,   0,   0,   0,   0,   0,   0,\n",
       "          0,   0,   0,   0,   0]], dtype=uint8)"
      ]
     },
     "execution_count": 33,
     "metadata": {},
     "output_type": "execute_result"
    }
   ],
   "source": [
    "test_data[96:97]"
   ]
  }
 ],
 "metadata": {
  "kernelspec": {
   "display_name": "Python 3",
   "language": "python",
   "name": "python3"
  },
  "language_info": {
   "codemirror_mode": {
    "name": "ipython",
    "version": 3
   },
   "file_extension": ".py",
   "mimetype": "text/x-python",
   "name": "python",
   "nbconvert_exporter": "python",
   "pygments_lexer": "ipython3",
   "version": "3.7.1"
  }
 },
 "nbformat": 4,
 "nbformat_minor": 2
}
