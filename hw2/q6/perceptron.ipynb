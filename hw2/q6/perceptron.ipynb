{
 "cells": [
  {
   "cell_type": "code",
   "execution_count": 19,
   "metadata": {},
   "outputs": [],
   "source": [
    "import numpy as np\n",
    "import scipy.io as sio\n",
    "from PIL import Image\n",
    "from numpy import linalg as LA"
   ]
  },
  {
   "cell_type": "code",
   "execution_count": 3,
   "metadata": {},
   "outputs": [],
   "source": [
    "mat_contents = sio.loadmat(\"mnist_digits.mat\") # mat_contents['X'].shape = (10000, 784)"
   ]
  },
  {
   "cell_type": "code",
   "execution_count": 79,
   "metadata": {},
   "outputs": [
    {
     "name": "stdout",
     "output_type": "stream",
     "text": [
      "6\n"
     ]
    },
    {
     "data": {
      "image/png": "[encoded data removed]",
      "text/plain": [
       "<PIL.Image.Image image mode=L size=28x28 at 0x116486810>"
      ]
     },
     "execution_count": 79,
     "metadata": {},
     "output_type": "execute_result"
    }
   ],
   "source": [
    "# select any sample from the 10,000 dataset\n",
    "n = 279\n",
    "# to see the Y value\n",
    "print(mat_contents['Y'][n][0])\n",
    "# to see the X value as image\n",
    "Image.fromarray(mat_contents['X'][n].reshape(28,28),'L') "
   ]
  },
  {
   "cell_type": "code",
   "execution_count": 69,
   "metadata": {},
   "outputs": [],
   "source": [
    "dataset = np.concatenate((mat_contents['X'], mat_contents['Y']), axis=1) # X, Y = dataset[:,:-1], dataset[:,-1] "
   ]
  },
  {
   "cell_type": "code",
   "execution_count": 92,
   "metadata": {},
   "outputs": [],
   "source": [
    "# separate dataset into training and testing\n",
    "\n",
    "def split_data(dataset, ratio):\n",
    "    msk = np.random.rand(len(dataset)) < ratio\n",
    "    train_data = dataset[msk]\n",
    "    test_data = dataset[~msk]\n",
    "    return train_data, test_data\n",
    "\n",
    "train_data, test_data = split_data(dataset, 0.7)"
   ]
  },
  {
   "cell_type": "code",
   "execution_count": 216,
   "metadata": {},
   "outputs": [
    {
     "data": {
      "text/plain": [
       "(2993, 785)"
      ]
     },
     "execution_count": 216,
     "metadata": {},
     "output_type": "execute_result"
    }
   ],
   "source": [
    "test_data.shape"
   ]
  },
  {
   "cell_type": "code",
   "execution_count": null,
   "metadata": {},
   "outputs": [],
   "source": []
  },
  {
   "cell_type": "code",
   "execution_count": null,
   "metadata": {},
   "outputs": [],
   "source": [
    "def percepton_train(train_data, max_iter, digit, mode=3):\n",
    "        \n",
    "    w = np.zeros((len(train_data[0]), 1)) # initialize weights and bias (index = 0)        \n",
    "\n",
    "    if mode == 0: # Perceptron V0\n",
    "        \n",
    "        for i in range(max_iter):\n",
    "\n",
    "            datapoint = train_data[i%(len(train_data)+1)]\n",
    "            y = 1 if (datapoint[-1] == digit) else -1\n",
    "            x = datapoint[:-1]\n",
    "\n",
    "            if y*x.dot(w[1:])[0] + w[0][0] <= 0:\n",
    "\n",
    "                w[1:] = w[1:] + y*x.reshape(784,1)\n",
    "                w[0] = w[0] + y\n",
    "\n",
    "        return w\n",
    "\n",
    "    if mode == 1: # Perceptron V1\n",
    "        \n",
    "        for i in range(max_iter):\n",
    "        \n",
    "            datapoint_min = train_data[0]\n",
    "            y_min = 1 if (datapoint[-1] == digit) else -1\n",
    "            x_min = datapoint[:-1]\n",
    "            a_min = y_min*x_min.dot(w[1:])[0] + w[0][0]\n",
    "\n",
    "            for datapoint in train_data:\n",
    "\n",
    "                y = 1 if (datapoint[-1] == digit) else -1\n",
    "                x = datapoint[:-1]\n",
    "                a = y*x.dot(w[1:])[0] + w[0][0]\n",
    "\n",
    "                if a < a_min:\n",
    "                    datapoint_min = datapoint\n",
    "                    y_min = y\n",
    "                    x_min = x\n",
    "                    a_min = a\n",
    "\n",
    "            if a_min <= 0:\n",
    "                w[1:] = w[1:] + y_min * x_min.reshape(784,1)\n",
    "                w[0] = w[0] + y_min\n",
    "\n",
    "        return w\n",
    "\n",
    "        \n",
    "    else:\n",
    "        \n",
    "        for i in range(max_iter):\n",
    "            \n",
    "            for datapoint in train_data:\n",
    "                \n",
    "                y = 1 if (datapoint[-1] == digit) else -1\n",
    "                x = datapoint[:-1]\n",
    "                \n",
    "                if y*x.dot(w[1:])[0] + w[0][0] <= 0:\n",
    "                    \n",
    "                    w[1:] = w[1:] + y*x.reshape(784,1)\n",
    "                    w[0] = w[0] + y\n",
    "        \n",
    "        return w\n",
    "\n",
    "\n",
    "\n",
    "def percepton_test(test_datapoint, w):\n",
    "    \n",
    "    return np.sign(test_datapoint[:-1].dot(w[1:])[0] + w[0][0])\n",
    "    \n",
    "    \n",
    "\n",
    "def percepton_accuracy(train_data, test_data, max_iter, digit):\n",
    "    \n",
    "    count = 0\n",
    "    total = len(test_data)\n",
    "    w = percepton_train(train_data, max_iter, digit)\n",
    "    \n",
    "    for datapoint in test_data:\n",
    "        \n",
    "        if (percepton_test(datapoint, w) == 1 and datapoint[-1]==digit) \\\n",
    "        or (percepton_test(datapoint, w) == -1 and datapoint[-1]!=digit):\n",
    "            count += 1\n",
    "            \n",
    "    return count/total"
   ]
  },
  {
   "cell_type": "code",
   "execution_count": null,
   "metadata": {},
   "outputs": [],
   "source": []
  },
  {
   "cell_type": "code",
   "execution_count": 283,
   "metadata": {},
   "outputs": [
    {
     "name": "stdout",
     "output_type": "stream",
     "text": [
      "For digit 0, the accuracy is 0.9863013698630136.\n",
      "For digit 1, the accuracy is 0.9856331440026729.\n",
      "For digit 2, the accuracy is 0.9435349148012028.\n",
      "For digit 3, the accuracy is 0.937854994988306.\n",
      "For digit 4, the accuracy is 0.9709321750751754.\n",
      "For digit 5, the accuracy is 0.9689274974941531.\n",
      "For digit 6, the accuracy is 0.9752756431673906.\n",
      "For digit 7, the accuracy is 0.9776144336785834.\n",
      "For digit 8, the accuracy is 0.9224858002004678.\n",
      "For digit 9, the accuracy is 0.9492148346140996.\n"
     ]
    }
   ],
   "source": [
    "for num in range(10):\n",
    "    print('For digit {}, the accuracy is {}.'.format(num, percepton0_accuracy(train_data, test_data, 100, num)))"
   ]
  },
  {
   "cell_type": "code",
   "execution_count": null,
   "metadata": {},
   "outputs": [],
   "source": []
  },
  {
   "cell_type": "code",
   "execution_count": null,
   "metadata": {},
   "outputs": [],
   "source": [
    "def percepton1_train(train_data, max_iter, digit):\n",
    "        \n",
    "    w = np.zeros((len(train_data[0]), 1)) # initialize weights and bias (index = 0)\n",
    "    \n",
    "    for i in range(max_iter):\n",
    "        \n",
    "        datapoint_min = train_data[0]\n",
    "        y_min = 1 if (datapoint[-1] == digit) else -1\n",
    "        x_min = datapoint[:-1]\n",
    "        a_min = y_min*x_min.dot(w[1:])[0] + w[0][0]\n",
    "        \n",
    "        for datapoint in train_data:\n",
    "            \n",
    "            y = 1 if (datapoint[-1] == digit) else -1\n",
    "            x = datapoint[:-1]\n",
    "            a = y*x.dot(w[1:])[0] + w[0][0]\n",
    "            \n",
    "            if a < a_min:\n",
    "                datapoint_min = datapoint\n",
    "                y_min = y\n",
    "                x_min = x\n",
    "                a_min = a\n",
    "                \n",
    "        if a_min <= 0:\n",
    "            w[1:] = w[1:] + y_min * x_min.reshape(784,1)\n",
    "            w[0] = w[0] + y_min\n",
    "            \n",
    "    return w"
   ]
  },
  {
   "cell_type": "code",
   "execution_count": 289,
   "metadata": {},
   "outputs": [],
   "source": [
    "c = np.zeros(len(train_data))"
   ]
  },
  {
   "cell_type": "code",
   "execution_count": 293,
   "metadata": {},
   "outputs": [
    {
     "data": {
      "text/plain": [
       "-1"
      ]
     },
     "execution_count": 293,
     "metadata": {},
     "output_type": "execute_result"
    }
   ],
   "source": [
    "np.sign(-21)"
   ]
  },
  {
   "cell_type": "code",
   "execution_count": 305,
   "metadata": {},
   "outputs": [],
   "source": [
    "def percepton_train2(train_data, max_iter, digit):\n",
    "    \n",
    "    # Perceptron V2  \n",
    "    \n",
    "    w = np.zeros((len(train_data[0]), 1)) # initialize weights and bias (index = 0)        \n",
    "    w_list = [w]\n",
    "    c = np.zeros(len(train_data))\n",
    "    k = 1\n",
    "\n",
    "    for i in range(max_iter):\n",
    "\n",
    "        datapoint = train_data[i%(len(train_data)+1)]\n",
    "        y = 1 if (datapoint[-1] == digit) else -1\n",
    "        x = datapoint[:-1]\n",
    "\n",
    "        if y*x.dot(w[1:])[0] + w[0][0] <= 0:\n",
    "\n",
    "            w[1:] = w[1:] + y*x.reshape(784,1)\n",
    "            w[0] = w[0] + y\n",
    "            c[k+1] = 1\n",
    "            k += 1\n",
    "            w_list.append(w)\n",
    "\n",
    "        else:\n",
    "\n",
    "            c[k] += 1\n",
    "\n",
    "    return w_list, c, k\n",
    "        \n",
    "    \n",
    "def percepton_test2(test_datapoint, w_list, c, k):\n",
    "    \n",
    "    sumation = 0\n",
    "    \n",
    "    for i in range(k):\n",
    "        w = w_list[i]\n",
    "        sumation += c[i] * np.sign(test_datapoint[:-1].dot(w[1:])[0] + w[0][0])\n",
    "    \n",
    "    return np.sign(sumation)"
   ]
  },
  {
   "cell_type": "code",
   "execution_count": 312,
   "metadata": {},
   "outputs": [
    {
     "data": {
      "text/plain": [
       "(13, 785)"
      ]
     },
     "execution_count": 312,
     "metadata": {},
     "output_type": "execute_result"
    }
   ],
   "source": [
    "np.array(percepton_train2(train_data, 100, 0)).reshape((13,785)).shape"
   ]
  },
  {
   "cell_type": "code",
   "execution_count": 300,
   "metadata": {},
   "outputs": [
    {
     "data": {
      "text/plain": [
       "0"
      ]
     },
     "execution_count": 300,
     "metadata": {},
     "output_type": "execute_result"
    }
   ],
   "source": [
    "20%4"
   ]
  },
  {
   "cell_type": "code",
   "execution_count": null,
   "metadata": {},
   "outputs": [],
   "source": []
  }
 ],
 "metadata": {
  "kernelspec": {
   "display_name": "Python 3",
   "language": "python",
   "name": "python3"
  },
  "language_info": {
   "codemirror_mode": {
    "name": "ipython",
    "version": 3
   },
   "file_extension": ".py",
   "mimetype": "text/x-python",
   "name": "python",
   "nbconvert_exporter": "python",
   "pygments_lexer": "ipython3",
   "version": "3.7.6"
  }
 },
 "nbformat": 4,
 "nbformat_minor": 2
}
