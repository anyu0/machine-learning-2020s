{
 "cells": [
  {
   "cell_type": "code",
   "execution_count": 19,
   "metadata": {},
   "outputs": [],
   "source": [
    "import numpy as np\n",
    "import scipy.io as sio\n",
    "from PIL import Image\n",
    "from numpy import linalg as LA"
   ]
  },
  {
   "cell_type": "code",
   "execution_count": 3,
   "metadata": {},
   "outputs": [],
   "source": [
    "mat_contents = sio.loadmat(\"mnist_digits.mat\") # mat_contents['X'].shape = (10000, 784)"
   ]
  },
  {
   "cell_type": "code",
   "execution_count": 79,
   "metadata": {},
   "outputs": [
    {
     "name": "stdout",
     "output_type": "stream",
     "text": [
      "6\n"
     ]
    },
    {
     "data": {
      "image/png": "[encoded data removed]",
      "text/plain": [
       "<PIL.Image.Image image mode=L size=28x28 at 0x116486810>"
      ]
     },
     "execution_count": 79,
     "metadata": {},
     "output_type": "execute_result"
    }
   ],
   "source": [
    "# select any sample from the 10,000 dataset\n",
    "n = 279\n",
    "# to see the Y value\n",
    "print(mat_contents['Y'][n][0])\n",
    "# to see the X value as image\n",
    "Image.fromarray(mat_contents['X'][n].reshape(28,28),'L') "
   ]
  },
  {
   "cell_type": "code",
   "execution_count": 69,
   "metadata": {},
   "outputs": [],
   "source": [
    "dataset = np.concatenate((mat_contents['X'], mat_contents['Y']), axis=1) # X, Y = dataset[:,:-1], dataset[:,-1] "
   ]
  },
  {
   "cell_type": "code",
   "execution_count": 92,
   "metadata": {},
   "outputs": [],
   "source": [
    "# separate dataset into training and testing\n",
    "\n",
    "def split_data(dataset, ratio):\n",
    "    msk = np.random.rand(len(dataset)) < ratio\n",
    "    train_data = dataset[msk]\n",
    "    test_data = dataset[~msk]\n",
    "    return train_data, test_data\n",
    "\n",
    "train_data, test_data = split_data(dataset, 0.7)"
   ]
  },
  {
   "cell_type": "code",
   "execution_count": 216,
   "metadata": {},
   "outputs": [
    {
     "data": {
      "text/plain": [
       "(2993, 785)"
      ]
     },
     "execution_count": 216,
     "metadata": {},
     "output_type": "execute_result"
    }
   ],
   "source": [
    "test_data.shape"
   ]
  },
  {
   "cell_type": "code",
   "execution_count": null,
   "metadata": {},
   "outputs": [],
   "source": []
  },
  {
   "cell_type": "code",
   "execution_count": 334,
   "metadata": {},
   "outputs": [],
   "source": [
    "def percepton_train(train_data, max_iter, digit, mode=1):\n",
    "        \n",
    "    w = np.zeros((len(train_data[0]), 1)) # initialize weights and bias (index = 0)        \n",
    "\n",
    "    if mode == 0: # Perceptron V0\n",
    "        \n",
    "        for i in range(max_iter):\n",
    "\n",
    "            datapoint = train_data[i%(len(train_data)+1)]\n",
    "            y = 1 if (datapoint[-1] == digit) else -1\n",
    "            x = datapoint[:-1]\n",
    "\n",
    "            if y*x.dot(w[1:])[0] + w[0][0] <= 0:\n",
    "\n",
    "                w[1:] = w[1:] + y*x.reshape(784,1)\n",
    "                w[0] = w[0] + y\n",
    "\n",
    "        return w\n",
    "\n",
    "    if mode == 1: # Perceptron V1\n",
    "        \n",
    "        for i in range(max_iter):\n",
    "        \n",
    "            datapoint_min = train_data[0]\n",
    "            y_min = 1 if (datapoint_min[-1] == digit) else -1\n",
    "            x_min = datapoint_min[:-1]\n",
    "            a_min = y_min*x_min.dot(w[1:])[0] + w[0][0]\n",
    "\n",
    "            for datapoint in train_data:\n",
    "\n",
    "                y = 1 if (datapoint[-1] == digit) else -1\n",
    "                x = datapoint[:-1]\n",
    "                a = y*x.dot(w[1:])[0] + w[0][0]\n",
    "\n",
    "                if a < a_min:\n",
    "                    datapoint_min = datapoint\n",
    "                    y_min = y\n",
    "                    x_min = x\n",
    "                    a_min = a\n",
    "\n",
    "            if a_min <= 0:\n",
    "                w[1:] = w[1:] + y_min * x_min.reshape(784,1)\n",
    "                w[0] = w[0] + y_min\n",
    "\n",
    "        return w\n",
    "\n",
    "        \n",
    "    else:\n",
    "        \n",
    "        for i in range(max_iter):\n",
    "            \n",
    "            for datapoint in train_data:\n",
    "                \n",
    "                y = 1 if (datapoint[-1] == digit) else -1\n",
    "                x = datapoint[:-1]\n",
    "                \n",
    "                if y*x.dot(w[1:])[0] + w[0][0] <= 0:\n",
    "                    \n",
    "                    w[1:] = w[1:] + y*x.reshape(784,1)\n",
    "                    w[0] = w[0] + y\n",
    "        \n",
    "        return w\n",
    "\n",
    "\n",
    "\n",
    "def percepton_test(test_datapoint, w):\n",
    "    \n",
    "    return np.sign(test_datapoint[:-1].dot(w[1:])[0] + w[0][0])\n",
    "    \n",
    "    \n",
    "\n",
    "def percepton_accuracy(train_data, test_data, max_iter, digit):\n",
    "    \n",
    "    count = 0\n",
    "    total = len(test_data)\n",
    "    w = percepton_train(train_data, max_iter, digit)\n",
    "    \n",
    "    for datapoint in test_data:\n",
    "        \n",
    "        if (percepton_test(datapoint, w) == 1 and datapoint[-1]==digit) \\\n",
    "        or (percepton_test(datapoint, w) == -1 and datapoint[-1]!=digit):\n",
    "            count += 1\n",
    "            \n",
    "    return count/total"
   ]
  },
  {
   "cell_type": "code",
   "execution_count": 335,
   "metadata": {},
   "outputs": [
    {
     "data": {
      "text/plain": [
       "0.2368860674908119"
      ]
     },
     "execution_count": 335,
     "metadata": {},
     "output_type": "execute_result"
    }
   ],
   "source": [
    "percepton_accuracy(train_data, test_data, 100, 0)"
   ]
  },
  {
   "cell_type": "code",
   "execution_count": 283,
   "metadata": {},
   "outputs": [
    {
     "name": "stdout",
     "output_type": "stream",
     "text": [
      "For digit 0, the accuracy is 0.9863013698630136.\n",
      "For digit 1, the accuracy is 0.9856331440026729.\n",
      "For digit 2, the accuracy is 0.9435349148012028.\n",
      "For digit 3, the accuracy is 0.937854994988306.\n",
      "For digit 4, the accuracy is 0.9709321750751754.\n",
      "For digit 5, the accuracy is 0.9689274974941531.\n",
      "For digit 6, the accuracy is 0.9752756431673906.\n",
      "For digit 7, the accuracy is 0.9776144336785834.\n",
      "For digit 8, the accuracy is 0.9224858002004678.\n",
      "For digit 9, the accuracy is 0.9492148346140996.\n"
     ]
    }
   ],
   "source": [
    "for num in range(10):\n",
    "    print('For digit {}, the accuracy is {}.'.format(num, percepton_accuracy(train_data, test_data, 100, num)))"
   ]
  },
  {
   "cell_type": "code",
   "execution_count": null,
   "metadata": {},
   "outputs": [],
   "source": []
  },
  {
   "cell_type": "code",
   "execution_count": null,
   "metadata": {},
   "outputs": [],
   "source": []
  },
  {
   "cell_type": "code",
   "execution_count": null,
   "metadata": {},
   "outputs": [],
   "source": []
  },
  {
   "cell_type": "code",
   "execution_count": null,
   "metadata": {},
   "outputs": [],
   "source": []
  },
  {
   "cell_type": "code",
   "execution_count": 339,
   "metadata": {},
   "outputs": [],
   "source": [
    "def percepton_train2(train_data, max_iter, digit):\n",
    "    \n",
    "    # Perceptron V2  \n",
    "    \n",
    "    w = np.zeros((len(train_data[0]), 1)) # initialize weights and bias (index = 0)        \n",
    "    w_list = [w]\n",
    "    c = np.zeros(len(train_data))\n",
    "    k = 1\n",
    "\n",
    "    for i in range(max_iter):\n",
    "\n",
    "        datapoint = train_data[i%(len(train_data)+1)]\n",
    "        y = 1 if (datapoint[-1] == digit) else -1\n",
    "        x = datapoint[:-1]\n",
    "\n",
    "        if y*x.dot(w[1:])[0] + w[0][0] <= 0:\n",
    "\n",
    "            w[1:] = w[1:] + y*x.reshape(784,1)\n",
    "            w[0] = w[0] + y\n",
    "            c[k+1] = 1\n",
    "            k += 1\n",
    "            w_list.append(w)\n",
    "\n",
    "        else:\n",
    "\n",
    "            c[k] += 1\n",
    "\n",
    "    return w_list, c, k\n",
    "        \n",
    "    \n",
    "def percepton_test2(test_datapoint, w_list, c, k):\n",
    "    \n",
    "    res = 0\n",
    "    \n",
    "    for i in range(k):\n",
    "        w = w_list[i]\n",
    "        res += c[i] * np.sign(test_datapoint[:-1].dot(w[1:])[0] + w[0][0])\n",
    "    \n",
    "    return np.sign(res)\n",
    "\n",
    "def percepton_accuracy2(train_data, test_data, max_iter, digit):\n",
    "    \n",
    "    count = 0\n",
    "    total = len(test_data)\n",
    "    w = percepton_train2(train_data, max_iter, digit)\n",
    "    \n",
    "    for datapoint in test_data:\n",
    "        \n",
    "        if (percepton_test(datapoint, w) == 1 and datapoint[-1]==digit) \\\n",
    "        or (percepton_test(datapoint, w) == -1 and datapoint[-1]!=digit):\n",
    "            count += 1\n",
    "            \n",
    "    return count/total"
   ]
  },
  {
   "cell_type": "code",
   "execution_count": 337,
   "metadata": {},
   "outputs": [
    {
     "data": {
      "text/plain": [
       "1.0"
      ]
     },
     "execution_count": 337,
     "metadata": {},
     "output_type": "execute_result"
    }
   ],
   "source": [
    "w_list, c, k = percepton_train2(train_data, 100, 0)\n",
    "percepton_test2(test_data[ test_data[:,-1]==0 ][0], w_list, c, k)"
   ]
  },
  {
   "cell_type": "code",
   "execution_count": 340,
   "metadata": {},
   "outputs": [
    {
     "ename": "ValueError",
     "evalue": "setting an array element with a sequence.",
     "output_type": "error",
     "traceback": [
      "\u001b[0;31m---------------------------------------------------------------------------\u001b[0m",
      "\u001b[0;31mTypeError\u001b[0m                                 Traceback (most recent call last)",
      "\u001b[0;31mTypeError\u001b[0m: only size-1 arrays can be converted to Python scalars",
      "\nThe above exception was the direct cause of the following exception:\n",
      "\u001b[0;31mValueError\u001b[0m                                Traceback (most recent call last)",
      "\u001b[0;32m<ipython-input-340-18eb073c2713>\u001b[0m in \u001b[0;36m<module>\u001b[0;34m()\u001b[0m\n\u001b[0;32m----> 1\u001b[0;31m \u001b[0mpercepton_accuracy2\u001b[0m\u001b[0;34m(\u001b[0m\u001b[0mtrain_data\u001b[0m\u001b[0;34m,\u001b[0m \u001b[0mtest_data\u001b[0m\u001b[0;34m,\u001b[0m \u001b[0;36m100\u001b[0m\u001b[0;34m,\u001b[0m \u001b[0;36m1\u001b[0m\u001b[0;34m)\u001b[0m\u001b[0;34m\u001b[0m\u001b[0;34m\u001b[0m\u001b[0m\n\u001b[0m",
      "\u001b[0;32m<ipython-input-339-2c2f350633a8>\u001b[0m in \u001b[0;36mpercepton_accuracy2\u001b[0;34m(train_data, test_data, max_iter, digit)\u001b[0m\n\u001b[1;32m     47\u001b[0m     \u001b[0;32mfor\u001b[0m \u001b[0mdatapoint\u001b[0m \u001b[0;32min\u001b[0m \u001b[0mtest_data\u001b[0m\u001b[0;34m:\u001b[0m\u001b[0;34m\u001b[0m\u001b[0;34m\u001b[0m\u001b[0m\n\u001b[1;32m     48\u001b[0m \u001b[0;34m\u001b[0m\u001b[0m\n\u001b[0;32m---> 49\u001b[0;31m         \u001b[0;32mif\u001b[0m \u001b[0;34m(\u001b[0m\u001b[0mpercepton_test\u001b[0m\u001b[0;34m(\u001b[0m\u001b[0mdatapoint\u001b[0m\u001b[0;34m,\u001b[0m \u001b[0mw\u001b[0m\u001b[0;34m)\u001b[0m \u001b[0;34m==\u001b[0m \u001b[0;36m1\u001b[0m \u001b[0;32mand\u001b[0m \u001b[0mdatapoint\u001b[0m\u001b[0;34m[\u001b[0m\u001b[0;34m-\u001b[0m\u001b[0;36m1\u001b[0m\u001b[0;34m]\u001b[0m\u001b[0;34m==\u001b[0m\u001b[0mdigit\u001b[0m\u001b[0;34m)\u001b[0m         \u001b[0;32mor\u001b[0m \u001b[0;34m(\u001b[0m\u001b[0mpercepton_test\u001b[0m\u001b[0;34m(\u001b[0m\u001b[0mdatapoint\u001b[0m\u001b[0;34m,\u001b[0m \u001b[0mw\u001b[0m\u001b[0;34m)\u001b[0m \u001b[0;34m==\u001b[0m \u001b[0;34m-\u001b[0m\u001b[0;36m1\u001b[0m \u001b[0;32mand\u001b[0m \u001b[0mdatapoint\u001b[0m\u001b[0;34m[\u001b[0m\u001b[0;34m-\u001b[0m\u001b[0;36m1\u001b[0m\u001b[0;34m]\u001b[0m\u001b[0;34m!=\u001b[0m\u001b[0mdigit\u001b[0m\u001b[0;34m)\u001b[0m\u001b[0;34m:\u001b[0m\u001b[0;34m\u001b[0m\u001b[0;34m\u001b[0m\u001b[0m\n\u001b[0m\u001b[1;32m     50\u001b[0m             \u001b[0mcount\u001b[0m \u001b[0;34m+=\u001b[0m \u001b[0;36m1\u001b[0m\u001b[0;34m\u001b[0m\u001b[0;34m\u001b[0m\u001b[0m\n\u001b[1;32m     51\u001b[0m \u001b[0;34m\u001b[0m\u001b[0m\n",
      "\u001b[0;32m<ipython-input-334-e5778771eb14>\u001b[0m in \u001b[0;36mpercepton_test\u001b[0;34m(test_datapoint, w)\u001b[0m\n\u001b[1;32m     66\u001b[0m \u001b[0;32mdef\u001b[0m \u001b[0mpercepton_test\u001b[0m\u001b[0;34m(\u001b[0m\u001b[0mtest_datapoint\u001b[0m\u001b[0;34m,\u001b[0m \u001b[0mw\u001b[0m\u001b[0;34m)\u001b[0m\u001b[0;34m:\u001b[0m\u001b[0;34m\u001b[0m\u001b[0;34m\u001b[0m\u001b[0m\n\u001b[1;32m     67\u001b[0m \u001b[0;34m\u001b[0m\u001b[0m\n\u001b[0;32m---> 68\u001b[0;31m     \u001b[0;32mreturn\u001b[0m \u001b[0mnp\u001b[0m\u001b[0;34m.\u001b[0m\u001b[0msign\u001b[0m\u001b[0;34m(\u001b[0m\u001b[0mtest_datapoint\u001b[0m\u001b[0;34m[\u001b[0m\u001b[0;34m:\u001b[0m\u001b[0;34m-\u001b[0m\u001b[0;36m1\u001b[0m\u001b[0;34m]\u001b[0m\u001b[0;34m.\u001b[0m\u001b[0mdot\u001b[0m\u001b[0;34m(\u001b[0m\u001b[0mw\u001b[0m\u001b[0;34m[\u001b[0m\u001b[0;36m1\u001b[0m\u001b[0;34m:\u001b[0m\u001b[0;34m]\u001b[0m\u001b[0;34m)\u001b[0m\u001b[0;34m[\u001b[0m\u001b[0;36m0\u001b[0m\u001b[0;34m]\u001b[0m \u001b[0;34m+\u001b[0m \u001b[0mw\u001b[0m\u001b[0;34m[\u001b[0m\u001b[0;36m0\u001b[0m\u001b[0;34m]\u001b[0m\u001b[0;34m[\u001b[0m\u001b[0;36m0\u001b[0m\u001b[0;34m]\u001b[0m\u001b[0;34m)\u001b[0m\u001b[0;34m\u001b[0m\u001b[0;34m\u001b[0m\u001b[0m\n\u001b[0m\u001b[1;32m     69\u001b[0m \u001b[0;34m\u001b[0m\u001b[0m\n\u001b[1;32m     70\u001b[0m \u001b[0;34m\u001b[0m\u001b[0m\n",
      "\u001b[0;31mValueError\u001b[0m: setting an array element with a sequence."
     ]
    }
   ],
   "source": [
    "percepton_accuracy2(train_data, test_data, 100, 1)"
   ]
  },
  {
   "cell_type": "code",
   "execution_count": 323,
   "metadata": {},
   "outputs": [
    {
     "data": {
      "text/plain": [
       "2"
      ]
     },
     "execution_count": 323,
     "metadata": {},
     "output_type": "execute_result"
    }
   ],
   "source": [
    "k"
   ]
  },
  {
   "cell_type": "code",
   "execution_count": null,
   "metadata": {},
   "outputs": [],
   "source": []
  }
 ],
 "metadata": {
  "kernelspec": {
   "display_name": "Python 3",
   "language": "python",
   "name": "python3"
  },
  "language_info": {
   "codemirror_mode": {
    "name": "ipython",
    "version": 3
   },
   "file_extension": ".py",
   "mimetype": "text/x-python",
   "name": "python",
   "nbconvert_exporter": "python",
   "pygments_lexer": "ipython3",
   "version": "3.7.6"
  }
 },
 "nbformat": 4,
 "nbformat_minor": 2
}
